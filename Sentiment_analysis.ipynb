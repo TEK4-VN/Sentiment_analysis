{
  "nbformat": 4,
  "nbformat_minor": 0,
  "metadata": {
    "colab": {
      "name": "Sentiment analysis.ipynb",
      "provenance": [],
      "collapsed_sections": []
    },
    "kernelspec": {
      "name": "python3",
      "display_name": "Python 3"
    },
    "language_info": {
      "name": "python"
    },
    "accelerator": "GPU"
  },
  "cells": [
    {
      "cell_type": "markdown",
      "source": [
        "<h1> Nhận dạng bình luận tiêu cực </h1>\n",
        "<h4> Trong notebook này, chúng ta sẽ: <h4>\n",
        "<ul>\n",
        "  <li> Tìm hiểu sơ bộ về Tiếng Việt </li>\n",
        "  <li> Tìm hiểu về cách tiền xử lý thông tin dạng chuỗi (string) </li>\n",
        "  <li> Vector hóa chuỗi\n",
        "  <li> Xây dựng mô hình đoán nhận bình luận tiêu cực sử dụng Keras, khám phá mô hình LSTM </li>\n",
        "</ul>\n",
        "\n",
        "<p> Xin cảm ơn rất nhiều vì những kiến thức mà anh Trần Công Nghĩa và anh Lê Quốc Hưng đã chia sẻ thông qua blog streetcodevn.com </p> \n",
        "<p> My heroes <3 </p>"
      ],
      "metadata": {
        "id": "31m_4XfgkP3K"
      }
    },
    {
      "cell_type": "markdown",
      "source": [
        "<h1> Sơ bộ </h1>\n",
        "<p> Phát biểu theo góc nhìn của máy học (Machine Learning) thì nhận dạng bình luận tiêu cực là bài toán phân lớp cảm xúc dựa trên văn bản ngôn ngữ tự nhiên. Đầu vào của bài toán là một câu hay một đoạn văn bản, còn đầu ra là các giá trị xác suất (điểm số) của N lớp cảm xúc mà ta cần xác định. </p>\n",
        "<p> "
      ],
      "metadata": {
        "id": "FoSv0_RyvQFr"
      }
    },
    {
      "cell_type": "markdown",
      "source": [
        "<h3> 1. Tìm hiểu sơ bộ về tiếng Việt </h3>\n",
        "<p> Trước hết, chúng ta cần biết một số điều về tiếng Việt: </p>\n",
        "<p> Đầu tiên, tiếng Việt có tính chất đơn lập. Tính đơn lập này được thể hiện đầu tiên qua việc các từ của tiếng Việt thường chỉ bao gồm từ một đến 2 tiếng. Điều này đồng nghĩa với việc tỉ lệ tiếng trên từ của tiếng Việt khá thấp, gần bằng 1.\n",
        "<p> Tiếp theo, tính chất đơn lập được thể hiện qua việc tiếng Việt không có khái niệm chia dạng từ (conjugation). Trong tiếng Anh, chúng ta có thể biểu diễn thì của tiếng Anh thông qua cách chia động từ: to dream (nguyên thể) dream/dreams (thể trần thuật) -> dream (thể giả định) -> dreaming (phân từ I) -> dreamed (thể quá khứ) -> dreamt (thể phân từ II),...\n",
        "<p> Thế nhưng, trong tiếng Việt, hư từ và vị trí, trật tự từ đóng vai trò làm rõ quan hệ ngữ pháp cũng như ý nghĩa ngữ pháp của từ và của câu. Với cùng ví dụ đó, ta có thể biểu diễn thì của hành động trong câu thông qua các bổ ngữ, như đã, đang, sẽ, đã từng,...\n",
        "<p> Một điểm đặc trưng nữa là tính hình tiết; hạt nhân cơ bản của từ vựng là các từ đơn tiết. Vì thế mà ranh giới giữa âm tiết, tiếng và từ không rõ ràng (ví dụ: trong tiếng Việt, \"nhà\" vừa là một tiếng, mà cũng vừa là một từ). Cũng vì vậy mà từ ghép và cụm từ cũng khó phân biệt. Đặc biệt, chúng ta còn có các khái niệm như từ ghép đẳng lập, từ ghép chính phụ, từ láy, các tiếng trong từ có thể có mối quan hệ về nghĩa (như từ ghép) hay mối quan hệ về âm (như từ láy). Đặc biệt, với từ láy, có thể được tạo bởi 2 đến 3 tiếng nhưng bắt buộc nhiều nhất một từ có ý nghĩa.\n",
        "<p> Cuối cùng, khái niệm \"các từ loại\" là rất mơ hồ. Ví dụ: \"cưa\" vừa là dụng cụ để xẻ gỗ, vừa chỉ hành động cắt xẻ gỗ. Nguyên nhân do cấu trúc của những từ có ý nghĩa đối tượng, tính chất, hành động,...không tách biệt nhau.\n",
        "\n",
        "<p> Các tính chất này của tiếng Việt sẽ có ảnh hưởng sâu sắc tới cách chúng ta xử lý dữ liệu đầu vào."
      ],
      "metadata": {
        "id": "BzscULH6oO8L"
      }
    },
    {
      "cell_type": "markdown",
      "source": [
        "<p> Chúng ta hãy cũng nhìn vào các công việc thông thường khi xử lý dữ liệu đầu vào với ngôn ngữ tiếng Anh: </p>\n",
        "<ol>\n",
        "  <li> Loại bỏ các ký tự không phải dạng ký tự (eg. Các dấu câu)\n",
        "  <li> Chuyển các kí tự thành dạng chữ cái thường\n",
        "  <li> Chuyển các câu thành danh sách các từ (Tokenization)\n",
        "  <li> Loại bỏ các hư từ (stop-words)\n",
        "  <li> Cắt từ (Stemming) hoặc tìm gốc từ (Lemmatization)\n",
        "  <li> Chuyển các từ thành tensors (Vectorization)\n",
        "</ol>\n",
        "\n",
        "<p> Trong các công đoạn trên, chỉ có công đoạn thứ 5 chúng ta cần làm khác so với tiếng Anh. Do tiếng Việt có bản chất monosyllabic, quá trình tách từ sẽ được thực hiện qua việc nối tiếng (bằng dấu '_' theo ý nghĩa) và tách tiếng (thông qua dấu ' ')"
      ],
      "metadata": {
        "id": "dXFUkXXG0joO"
      }
    },
    {
      "cell_type": "code",
      "source": [
        "from google.colab import drive\n",
        "import string\n",
        "drive.mount('/content/drive')"
      ],
      "metadata": {
        "id": "rstjmnTLY1oH",
        "colab": {
          "base_uri": "https://localhost:8080/"
        },
        "outputId": "1979a84e-0245-4b1d-d01f-d658981125e9"
      },
      "execution_count": null,
      "outputs": [
        {
          "output_type": "stream",
          "name": "stdout",
          "text": [
            "Mounted at /content/drive\n"
          ]
        }
      ]
    },
    {
      "cell_type": "markdown",
      "source": [
        "<p> Chúng ta sẽ không tách từ dựa trên các dấu cách (như tiếng Anh) mà sẽ tách từ dựa trên ý nghĩa. Đây là một công việc rất khó, và chúng ta sẽ sử dụng công trình nghiên cứu của Nguyen. Dat, Nguyen. Dai, Dras. Mark, Johnson. Mark. Phần mềm của họ được viết trong ngôn ngữ Java, nên ta sẽ sử dụng implementation của Pham. Vinh, được viết bằng ngôn ngữ Python."
      ],
      "metadata": {
        "id": "AqYNc0cv4LnJ"
      }
    },
    {
      "cell_type": "code",
      "source": [
        "!git clone https://github.com/Sudo-VP/Vietnamese-Word-Segmentation-Python.git"
      ],
      "metadata": {
        "id": "DlqZas-wI4SI",
        "colab": {
          "base_uri": "https://localhost:8080/"
        },
        "outputId": "df9ba5d3-ad81-4834-efe9-344cca200e0f"
      },
      "execution_count": null,
      "outputs": [
        {
          "output_type": "stream",
          "name": "stdout",
          "text": [
            "Cloning into 'Vietnamese-Word-Segmentation-Python'...\n",
            "remote: Enumerating objects: 118, done.\u001b[K\n",
            "remote: Counting objects: 100% (118/118), done.\u001b[K\n",
            "remote: Compressing objects: 100% (90/90), done.\u001b[K\n",
            "remote: Total 118 (delta 33), reused 96 (delta 16), pack-reused 0\u001b[K\n",
            "Receiving objects: 100% (118/118), 905.21 KiB | 5.00 MiB/s, done.\n",
            "Resolving deltas: 100% (33/33), done.\n"
          ]
        }
      ]
    },
    {
      "cell_type": "code",
      "source": [
        "%cd \"/content/Vietnamese-Word-Segmentation-Python\"\n",
        "!python setup.py install\n",
        "!python -m pip install ."
      ],
      "metadata": {
        "id": "GbvQlhiYdI2U",
        "colab": {
          "base_uri": "https://localhost:8080/"
        },
        "outputId": "d48d3801-b618-4afb-8a6a-4416df2b2bb6"
      },
      "execution_count": null,
      "outputs": [
        {
          "output_type": "stream",
          "name": "stdout",
          "text": [
            "  Installing build dependencies ... \u001b[?25l\u001b[?25hdone\n",
            "  Getting requirements to build wheel ... \u001b[?25l\u001b[?25hdone\n",
            "    Preparing wheel metadata ... \u001b[?25l\u001b[?25hdone\n",
            "Building wheels for collected packages: vws\n",
            "  Building wheel for vws (PEP 517) ... \u001b[?25l\u001b[?25hdone\n",
            "  Created wheel for vws: filename=vws-0.0.1-py3-none-any.whl size=554050 sha256=0e8ef634975939f87ef4b9880880d3fb6b82ed5c4c98033e7071fc814ac8e90e\n",
            "  Stored in directory: /root/.cache/pip/wheels/2f/88/2a/869ab89724061d03607181dd71071221ebb4df266644839a12\n",
            "Successfully built vws\n",
            "Installing collected packages: vws\n",
            "  Attempting uninstall: vws\n",
            "    Found existing installation: vws 0.0.1\n",
            "    Uninstalling vws-0.0.1:\n",
            "      Successfully uninstalled vws-0.0.1\n",
            "Successfully installed vws-0.0.1\n"
          ]
        }
      ]
    },
    {
      "cell_type": "code",
      "source": [
        "from vws import RDRSegmenter, Tokenizer\n",
        "rdrsegment = RDRSegmenter.RDRSegmenter()\n",
        "tokenizer = Tokenizer.Tokenizer()"
      ],
      "metadata": {
        "id": "rsKbqbxofFbL"
      },
      "execution_count": null,
      "outputs": []
    },
    {
      "cell_type": "markdown",
      "source": [
        "Hàm get_paths() được sử dụng để lấy đường dẫn của tất cả các file có đuôi .txt. Hàm load_text() được sử dụng để đọc file và trả về nội dung file dưới dạng các string."
      ],
      "metadata": {
        "id": "dDr-7KSU4PWF"
      }
    },
    {
      "cell_type": "code",
      "source": [
        "import os\n",
        "def get_paths(PATH):\n",
        "  paths = []\n",
        "  for root, subFolder, files in os.walk(PATH):\n",
        "      for item in files:\n",
        "          if item.endswith(\".txt\") :\n",
        "              fileNamePath = str(os.path.join(root,item))\n",
        "              paths.append(fileNamePath)\n",
        "  return paths"
      ],
      "metadata": {
        "id": "CxPtSFHRw4Yr"
      },
      "execution_count": null,
      "outputs": []
    },
    {
      "cell_type": "code",
      "source": [
        "def load_text(filename):\n",
        "\tfile = open(filename, 'r')\n",
        "\ttext = file.read()\n",
        "\tfile.close()\n",
        "\treturn text"
      ],
      "metadata": {
        "id": "QOUNvi3g1SFg"
      },
      "execution_count": null,
      "outputs": []
    },
    {
      "cell_type": "markdown",
      "source": [
        "Ở bên dưới, ta đang load danh sách các hư từ từ một file txt. File txt này là kết quả của Le. Duyet, các bạn có thể tải từ trang web https://github.com/stopwords/vietnamese-stopwords"
      ],
      "metadata": {
        "id": "qfI-pfOL4p5F"
      }
    },
    {
      "cell_type": "code",
      "source": [
        "stop_words = load_text(\"/content/drive/MyDrive/Dataset_Sentiment_Analysis/stop_words/vietnamese-stopwords-dash.txt\")\n",
        "stop_words = stop_words.split()"
      ],
      "metadata": {
        "id": "3Yfw1zw4C1uc"
      },
      "execution_count": null,
      "outputs": []
    },
    {
      "cell_type": "code",
      "source": [
        "print(stop_words)"
      ],
      "metadata": {
        "colab": {
          "base_uri": "https://localhost:8080/"
        },
        "id": "8Nkh2t7d8Xnf",
        "outputId": "210da1cc-c2dd-42a0-b5db-e39cd556d3d9"
      },
      "execution_count": null,
      "outputs": [
        {
          "output_type": "stream",
          "name": "stdout",
          "text": [
            "['a_lô', 'a_ha', 'ai', 'ai_ai', 'ai_nấy', 'ai_đó', 'alô', 'amen', 'anh', 'anh_ấy', 'ba', 'ba_ba', 'ba_bản', 'ba_cùng', 'ba_họ', 'ba_ngày', 'ba_ngôi', 'ba_tăng', 'bao_giờ', 'bao_lâu', 'bao_nhiêu', 'bao_nả', 'bay_biến', 'biết', 'biết_bao', 'biết_bao_nhiêu', 'biết_chắc', 'biết_chừng_nào', 'biết_mình', 'biết_mấy', 'biết_thế', 'biết_trước', 'biết_việc', 'biết_đâu', 'biết_đâu_chừng', 'biết_đâu_đấy', 'biết_được', 'buổi', 'buổi_làm', 'buổi_mới', 'buổi_ngày', 'buổi_sớm', 'bà', 'bà_ấy', 'bài', 'bài_bác', 'bài_bỏ', 'bài_cái', 'bác', 'bán', 'bán_cấp', 'bán_dạ', 'bán_thế', 'bây_bẩy', 'bây_chừ', 'bây_giờ', 'bây_nhiêu', 'bèn', 'béng', 'bên', 'bên_bị', 'bên_có', 'bên_cạnh', 'bông', 'bước', 'bước_khỏi', 'bước_tới', 'bước_đi', 'bạn', 'bản', 'bản_bộ', 'bản_riêng', 'bản_thân', 'bản_ý', 'bất_chợt', 'bất_cứ', 'bất_giác', 'bất_kì', 'bất_kể', 'bất_kỳ', 'bất_luận', 'bất_ngờ', 'bất_nhược', 'bất_quá', 'bất_quá_chỉ', 'bất_thình_lình', 'bất_tử', 'bất_đồ', 'bấy', 'bấy_chầy', 'bấy_chừ', 'bấy_giờ', 'bấy_lâu', 'bấy_lâu_nay', 'bấy_nay', 'bấy_nhiêu', 'bập_bà_bập_bõm', 'bập_bõm', 'bắt_đầu', 'bắt_đầu_từ', 'bằng', 'bằng_cứ', 'bằng_không', 'bằng_người', 'bằng_nhau', 'bằng_như', 'bằng_nào', 'bằng_nấy', 'bằng_vào', 'bằng_được', 'bằng_ấy', 'bển', 'bệt', 'bị', 'bị_chú', 'bị_vì', 'bỏ', 'bỏ_bà', 'bỏ_cha', 'bỏ_cuộc', 'bỏ_không', 'bỏ_lại', 'bỏ_mình', 'bỏ_mất', 'bỏ_mẹ', 'bỏ_nhỏ', 'bỏ_quá', 'bỏ_ra', 'bỏ_riêng', 'bỏ_việc', 'bỏ_xa', 'bỗng', 'bỗng_chốc', 'bỗng_dưng', 'bỗng_không', 'bỗng_nhiên', 'bỗng_nhưng', 'bỗng_thấy', 'bỗng_đâu', 'bộ', 'bộ_thuộc', 'bộ_điều', 'bội_phần', 'bớ', 'bởi', 'bởi_ai', 'bởi_chưng', 'bởi_nhưng', 'bởi_sao', 'bởi_thế', 'bởi_thế_cho_nên', 'bởi_tại', 'bởi_vì', 'bởi_vậy', 'bởi_đâu', 'bức', 'cao', 'cao_lâu', 'cao_ráo', 'cao_răng', 'cao_sang', 'cao_số', 'cao_thấp', 'cao_thế', 'cao_xa', 'cha', 'cha_chả', 'chao_ôi', 'chia_sẻ', 'chiếc', 'cho', 'cho_biết', 'cho_chắc', 'cho_hay', 'cho_nhau', 'cho_nên', 'cho_rằng', 'cho_rồi', 'cho_thấy', 'cho_tin', 'cho_tới', 'cho_tới_khi', 'cho_về', 'cho_ăn', 'cho_đang', 'cho_được', 'cho_đến', 'cho_đến_khi', 'cho_đến_nỗi', 'choa', 'chu_cha', 'chui_cha', 'chung', 'chung_cho', 'chung_chung', 'chung_cuộc', 'chung_cục', 'chung_nhau', 'chung_qui', 'chung_quy', 'chung_quy_lại', 'chung_ái', 'chuyển', 'chuyển_tự', 'chuyển_đạt', 'chuyện', 'chuẩn_bị', 'chành_chạnh', 'chí_chết', 'chính', 'chính_bản', 'chính_giữa', 'chính_là', 'chính_thị', 'chính_điểm', 'chùn_chùn', 'chùn_chũn', 'chú', 'chú_dẫn', 'chú_khách', 'chú_mày', 'chú_mình', 'chúng', 'chúng_mình', 'chúng_ta', 'chúng_tôi', 'chúng_ông', 'chăn_chắn', 'chăng', 'chăng_chắc', 'chăng_nữa', 'chơi', 'chơi_họ', 'chưa', 'chưa_bao_giờ', 'chưa_chắc', 'chưa_có', 'chưa_cần', 'chưa_dùng', 'chưa_dễ', 'chưa_kể', 'chưa_tính', 'chưa_từng', 'chầm_chập', 'chậc', 'chắc', 'chắc_chắn', 'chắc_dạ', 'chắc_hẳn', 'chắc_lòng', 'chắc_người', 'chắc_vào', 'chắc_ăn', 'chẳng_lẽ', 'chẳng_những', 'chẳng_nữa', 'chẳng_phải', 'chết_nỗi', 'chết_thật', 'chết_tiệt', 'chỉ', 'chỉ_chính', 'chỉ_có', 'chỉ_là', 'chỉ_tên', 'chỉn', 'chị', 'chị_bộ', 'chị_ấy', 'chịu', 'chịu_chưa', 'chịu_lời', 'chịu_tốt', 'chịu_ăn', 'chọn', 'chọn_bên', 'chọn_ra', 'chốc_chốc', 'chớ', 'chớ_chi', 'chớ_gì', 'chớ_không', 'chớ_kể', 'chớ_như', 'chợt', 'chợt_nghe', 'chợt_nhìn', 'chủn', 'chứ', 'chứ_ai', 'chứ_còn', 'chứ_gì', 'chứ_không', 'chứ_không_phải', 'chứ_lại', 'chứ_lị', 'chứ_như', 'chứ_sao', 'coi_bộ', 'coi_mòi', 'con', 'con_con', 'con_dạ', 'con_nhà', 'con_tính', 'cu_cậu', 'cuối', 'cuối_cùng', 'cuối_điểm', 'cuốn', 'cuộc', 'càng', 'càng_càng', 'càng_hay', 'cá_nhân', 'các', 'các_cậu', 'cách', 'cách_bức', 'cách_không', 'cách_nhau', 'cách_đều', 'cái', 'cái_gì', 'cái_họ', 'cái_đã', 'cái_đó', 'cái_ấy', 'câu_hỏi', 'cây', 'cây_nước', 'còn', 'còn_như', 'còn_nữa', 'còn_thời_gian', 'còn_về', 'có', 'có_ai', 'có_chuyện', 'có_chăng', 'có_chăng_là', 'có_chứ', 'có_cơ', 'có_dễ', 'có_họ', 'có_khi', 'có_ngày', 'có_người', 'có_nhiều', 'có_nhà', 'có_phải', 'có_số', 'có_tháng', 'có_thế', 'có_thể', 'có_vẻ', 'có_ý', 'có_ăn', 'có_điều', 'có_điều_kiện', 'có_đáng', 'có_đâu', 'có_được', 'cóc_khô', 'cô', 'cô_mình', 'cô_quả', 'cô_tăng', 'cô_ấy', 'công_nhiên', 'cùng', 'cùng_chung', 'cùng_cực', 'cùng_nhau', 'cùng_tuổi', 'cùng_tột', 'cùng_với', 'cùng_ăn', 'căn', 'căn_cái', 'căn_cắt', 'căn_tính', 'cũng', 'cũng_như', 'cũng_nên', 'cũng_thế', 'cũng_vậy', 'cũng_vậy_thôi', 'cũng_được', 'cơ', 'cơ_chỉ', 'cơ_chừng', 'cơ_cùng', 'cơ_dẫn', 'cơ_hồ', 'cơ_hội', 'cơ_mà', 'cơn', 'cả', 'cả_nghe', 'cả_nghĩ', 'cả_ngày', 'cả_người', 'cả_nhà', 'cả_năm', 'cả_thảy', 'cả_thể', 'cả_tin', 'cả_ăn', 'cả_đến', 'cảm_thấy', 'cảm_ơn', 'cấp', 'cấp_số', 'cấp_trực_tiếp', 'cần', 'cần_cấp', 'cần_gì', 'cần_số', 'cật_lực', 'cật_sức', 'cậu', 'cổ_lai', 'cụ_thể', 'cụ_thể_là', 'cụ_thể_như', 'của', 'của_ngọt', 'của_tin', 'cứ', 'cứ_như', 'cứ_việc', 'cứ_điểm', 'cực_lực', 'do', 'do_vì', 'do_vậy', 'do_đó', 'duy', 'duy_chỉ', 'duy_có', 'dài', 'dài_lời', 'dài_ra', 'dành', 'dành_dành', 'dào', 'dì', 'dù', 'dù_cho', 'dù_dì', 'dù_gì', 'dù_rằng', 'dù_sao', 'dùng', 'dùng_cho', 'dùng_hết', 'dùng_làm', 'dùng_đến', 'dưới', 'dưới_nước', 'dạ', 'dạ_bán', 'dạ_con', 'dạ_dài', 'dạ_dạ', 'dạ_khách', 'dần_dà', 'dần_dần', 'dầu_sao', 'dẫn', 'dẫu', 'dẫu_mà', 'dẫu_rằng', 'dẫu_sao', 'dễ', 'dễ_dùng', 'dễ_gì', 'dễ_khiến', 'dễ_nghe', 'dễ_ngươi', 'dễ_như_chơi', 'dễ_sợ', 'dễ_sử_dụng', 'dễ_thường', 'dễ_thấy', 'dễ_ăn', 'dễ_đâu', 'dở_chừng', 'dữ', 'dữ_cách', 'em', 'em_em', 'giá_trị', 'giá_trị_thực_tế', 'giảm', 'giảm_chính', 'giảm_thấp', 'giảm_thế', 'giống', 'giống_người', 'giống_nhau', 'giống_như', 'giờ', 'giờ_lâu', 'giờ_này', 'giờ_đi', 'giờ_đây', 'giờ_đến', 'giữ', 'giữ_lấy', 'giữ_ý', 'giữa', 'giữa_lúc', 'gây', 'gây_cho', 'gây_giống', 'gây_ra', 'gây_thêm', 'gì', 'gì_gì', 'gì_đó', 'gần', 'gần_bên', 'gần_hết', 'gần_ngày', 'gần_như', 'gần_xa', 'gần_đây', 'gần_đến', 'gặp', 'gặp_khó_khăn', 'gặp_phải', 'gồm', 'hay', 'hay_biết', 'hay_hay', 'hay_không', 'hay_là', 'hay_làm', 'hay_nhỉ', 'hay_nói', 'hay_sao', 'hay_tin', 'hay_đâu', 'hiểu', 'hiện_nay', 'hiện_tại', 'hoàn_toàn', 'hoặc', 'hoặc_là', 'hãy', 'hãy_còn', 'hơn', 'hơn_cả', 'hơn_hết', 'hơn_là', 'hơn_nữa', 'hơn_trước', 'hầu_hết', 'hết', 'hết_chuyện', 'hết_cả', 'hết_của', 'hết_nói', 'hết_ráo', 'hết_rồi', 'hết_ý', 'họ', 'họ_gần', 'họ_xa', 'hỏi', 'hỏi_lại', 'hỏi_xem', 'hỏi_xin', 'hỗ_trợ', 'khi', 'khi_khác', 'khi_không', 'khi_nào', 'khi_nên', 'khi_trước', 'khiến', 'khoảng', 'khoảng_cách', 'khoảng_không', 'khá', 'khá_tốt', 'khác', 'khác_gì', 'khác_khác', 'khác_nhau', 'khác_nào', 'khác_thường', 'khác_xa', 'khách', 'khó', 'khó_biết', 'khó_chơi', 'khó_khăn', 'khó_làm', 'khó_mở', 'khó_nghe', 'khó_nghĩ', 'khó_nói', 'khó_thấy', 'khó_tránh', 'không', 'không_ai', 'không_bao_giờ', 'không_bao_lâu', 'không_biết', 'không_bán', 'không_chỉ', 'không_còn', 'không_có', 'không_có_gì', 'không_cùng', 'không_cần', 'không_cứ', 'không_dùng', 'không_gì', 'không_hay', 'không_khỏi', 'không_kể', 'không_ngoài', 'không_nhận', 'không_những', 'không_phải', 'không_phải_không', 'không_thể', 'không_tính', 'không_điều_kiện', 'không_được', 'không_đầy', 'không_để', 'khẳng_định', 'khỏi', 'khỏi_nói', 'kể', 'kể_cả', 'kể_như', 'kể_tới', 'kể_từ', 'liên_quan', 'loại', 'loại_từ', 'luôn', 'luôn_cả', 'luôn_luôn', 'luôn_tay', 'là', 'là_cùng', 'là_là', 'là_nhiều', 'là_phải', 'là_thế_nào', 'là_vì', 'là_ít', 'làm', 'làm_bằng', 'làm_cho', 'làm_dần_dần', 'làm_gì', 'làm_lòng', 'làm_lại', 'làm_lấy', 'làm_mất', 'làm_ngay', 'làm_như', 'làm_nên', 'làm_ra', 'làm_riêng', 'làm_sao', 'làm_theo', 'làm_thế_nào', 'làm_tin', 'làm_tôi', 'làm_tăng', 'làm_tại', 'làm_tắp_lự', 'làm_vì', 'làm_đúng', 'làm_được', 'lâu', 'lâu_các', 'lâu_lâu', 'lâu_nay', 'lâu_ngày', 'lên', 'lên_cao', 'lên_cơn', 'lên_mạnh', 'lên_ngôi', 'lên_nước', 'lên_số', 'lên_xuống', 'lên_đến', 'lòng', 'lòng_không', 'lúc', 'lúc_khác', 'lúc_lâu', 'lúc_nào', 'lúc_này', 'lúc_sáng', 'lúc_trước', 'lúc_đi', 'lúc_đó', 'lúc_đến', 'lúc_ấy', 'lý_do', 'lượng', 'lượng_cả', 'lượng_số', 'lượng_từ', 'lại', 'lại_bộ', 'lại_cái', 'lại_còn', 'lại_giống', 'lại_làm', 'lại_người', 'lại_nói', 'lại_nữa', 'lại_quả', 'lại_thôi', 'lại_ăn', 'lại_đây', 'lấy', 'lấy_có', 'lấy_cả', 'lấy_giống', 'lấy_làm', 'lấy_lý_do', 'lấy_lại', 'lấy_ra', 'lấy_ráo', 'lấy_sau', 'lấy_số', 'lấy_thêm', 'lấy_thế', 'lấy_vào', 'lấy_xuống', 'lấy_được', 'lấy_để', 'lần', 'lần_khác', 'lần_lần', 'lần_nào', 'lần_này', 'lần_sang', 'lần_sau', 'lần_theo', 'lần_trước', 'lần_tìm', 'lớn', 'lớn_lên', 'lớn_nhỏ', 'lời', 'lời_chú', 'lời_nói', 'mang', 'mang_lại', 'mang_mang', 'mang_nặng', 'mang_về', 'muốn', 'mà', 'mà_cả', 'mà_không', 'mà_lại', 'mà_thôi', 'mà_vẫn', 'mình', 'mạnh', 'mất', 'mất_còn', 'mọi', 'mọi_giờ', 'mọi_khi', 'mọi_lúc', 'mọi_người', 'mọi_nơi', 'mọi_sự', 'mọi_thứ', 'mọi_việc', 'mối', 'mỗi', 'mỗi_lúc', 'mỗi_lần', 'mỗi_một', 'mỗi_ngày', 'mỗi_người', 'một', 'một_cách', 'một_cơn', 'một_khi', 'một_lúc', 'một_số', 'một_vài', 'một_ít', 'mới', 'mới_hay', 'mới_rồi', 'mới_đây', 'mở', 'mở_mang', 'mở_nước', 'mở_ra', 'mợ', 'mức', 'nay', 'ngay', 'ngay_bây_giờ', 'ngay_cả', 'ngay_khi', 'ngay_khi_đến', 'ngay_lúc', 'ngay_lúc_này', 'ngay_lập_tức', 'ngay_thật', 'ngay_tức_khắc', 'ngay_tức_thì', 'ngay_từ', 'nghe', 'nghe_chừng', 'nghe_hiểu', 'nghe_không', 'nghe_lại', 'nghe_nhìn', 'nghe_như', 'nghe_nói', 'nghe_ra', 'nghe_rõ', 'nghe_thấy', 'nghe_tin', 'nghe_trực_tiếp', 'nghe_đâu', 'nghe_đâu_như', 'nghe_được', 'nghen', 'nghiễm_nhiên', 'nghĩ', 'nghĩ_lại', 'nghĩ_ra', 'nghĩ_tới', 'nghĩ_xa', 'nghĩ_đến', 'nghỉm', 'ngoài', 'ngoài_này', 'ngoài_ra', 'ngoài_xa', 'ngoải', 'nguồn', 'ngày', 'ngày_càng', 'ngày_cấp', 'ngày_giờ', 'ngày_ngày', 'ngày_nào', 'ngày_này', 'ngày_nọ', 'ngày_qua', 'ngày_rày', 'ngày_tháng', 'ngày_xưa', 'ngày_xửa', 'ngày_đến', 'ngày_ấy', 'ngôi', 'ngôi_nhà', 'ngôi_thứ', 'ngõ_hầu', 'ngăn_ngắt', 'ngươi', 'người', 'người_hỏi', 'người_khác', 'người_khách', 'người_mình', 'người_nghe', 'người_người', 'người_nhận', 'ngọn', 'ngọn_nguồn', 'ngọt', 'ngồi', 'ngồi_bệt', 'ngồi_không', 'ngồi_sau', 'ngồi_trệt', 'ngộ_nhỡ', 'nhanh', 'nhanh_lên', 'nhanh_tay', 'nhau', 'nhiên_hậu', 'nhiều', 'nhiều_ít', 'nhiệt_liệt', 'nhung_nhăng', 'nhà', 'nhà_chung', 'nhà_khó', 'nhà_làm', 'nhà_ngoài', 'nhà_ngươi', 'nhà_tôi', 'nhà_việc', 'nhân_dịp', 'nhân_tiện', 'nhé', 'nhìn', 'nhìn_chung', 'nhìn_lại', 'nhìn_nhận', 'nhìn_theo', 'nhìn_thấy', 'nhìn_xuống', 'nhóm', 'nhón_nhén', 'như', 'như_ai', 'như_chơi', 'như_không', 'như_là', 'như_nhau', 'như_quả', 'như_sau', 'như_thường', 'như_thế', 'như_thế_nào', 'như_thể', 'như_trên', 'như_trước', 'như_tuồng', 'như_vậy', 'như_ý', 'nhưng', 'nhưng_mà', 'nhược_bằng', 'nhất', 'nhất_loạt', 'nhất_luật', 'nhất_là', 'nhất_mực', 'nhất_nhất', 'nhất_quyết', 'nhất_sinh', 'nhất_thiết', 'nhất_thì', 'nhất_tâm', 'nhất_tề', 'nhất_đán', 'nhất_định', 'nhận', 'nhận_biết', 'nhận_họ', 'nhận_làm', 'nhận_nhau', 'nhận_ra', 'nhận_thấy', 'nhận_việc', 'nhận_được', 'nhằm', 'nhằm_khi', 'nhằm_lúc', 'nhằm_vào', 'nhằm_để', 'nhỉ', 'nhỏ', 'nhỏ_người', 'nhớ', 'nhớ_bập_bõm', 'nhớ_lại', 'nhớ_lấy', 'nhớ_ra', 'nhờ', 'nhờ_chuyển', 'nhờ_có', 'nhờ_nhờ', 'nhờ_đó', 'nhỡ_ra', 'những', 'những_ai', 'những_khi', 'những_là', 'những_lúc', 'những_muốn', 'những_như', 'nào', 'nào_cũng', 'nào_hay', 'nào_là', 'nào_phải', 'nào_đâu', 'nào_đó', 'này', 'này_nọ', 'nên', 'nên_chi', 'nên_chăng', 'nên_làm', 'nên_người', 'nên_tránh', 'nó', 'nóc', 'nói', 'nói_bông', 'nói_chung', 'nói_khó', 'nói_là', 'nói_lên', 'nói_lại', 'nói_nhỏ', 'nói_phải', 'nói_qua', 'nói_ra', 'nói_riêng', 'nói_rõ', 'nói_thêm', 'nói_thật', 'nói_toẹt', 'nói_trước', 'nói_tốt', 'nói_với', 'nói_xa', 'nói_ý', 'nói_đến', 'nói_đủ', 'năm', 'năm_tháng', 'nơi', 'nơi_nơi', 'nước', 'nước_bài', 'nước_cùng', 'nước_lên', 'nước_nặng', 'nước_quả', 'nước_xuống', 'nước_ăn', 'nước_đến', 'nấy', 'nặng', 'nặng_căn', 'nặng_mình', 'nặng_về', 'nếu', 'nếu_có', 'nếu_cần', 'nếu_không', 'nếu_mà', 'nếu_như', 'nếu_thế', 'nếu_vậy', 'nếu_được', 'nền', 'nọ', 'nớ', 'nức_nở', 'nữa', 'nữa_khi', 'nữa_là', 'nữa_rồi', 'oai_oái', 'oái', 'pho', 'phè', 'phè_phè', 'phía', 'phía_bên', 'phía_bạn', 'phía_dưới', 'phía_sau', 'phía_trong', 'phía_trên', 'phía_trước', 'phóc', 'phót', 'phù_hợp', 'phăn_phắt', 'phương_chi', 'phải', 'phải_biết', 'phải_chi', 'phải_chăng', 'phải_cách', 'phải_cái', 'phải_giờ', 'phải_khi', 'phải_không', 'phải_lại', 'phải_lời', 'phải_người', 'phải_như', 'phải_rồi', 'phải_tay', 'phần', 'phần_lớn', 'phần_nhiều', 'phần_nào', 'phần_sau', 'phần_việc', 'phắt', 'phỉ_phui', 'phỏng', 'phỏng_như', 'phỏng_nước', 'phỏng_theo', 'phỏng_tính', 'phốc', 'phụt', 'phứt', 'qua', 'qua_chuyện', 'qua_khỏi', 'qua_lại', 'qua_lần', 'qua_ngày', 'qua_tay', 'qua_thì', 'qua_đi', 'quan_trọng', 'quan_trọng_vấn_đề', 'quan_tâm', 'quay', 'quay_bước', 'quay_lại', 'quay_số', 'quay_đi', 'quá', 'quá_bán', 'quá_bộ', 'quá_giờ', 'quá_lời', 'quá_mức', 'quá_nhiều', 'quá_tay', 'quá_thì', 'quá_tin', 'quá_trình', 'quá_tuổi', 'quá_đáng', 'quá_ư', 'quả', 'quả_là', 'quả_thật', 'quả_thế', 'quả_vậy', 'quận', 'ra', 'ra_bài', 'ra_bộ', 'ra_chơi', 'ra_gì', 'ra_lại', 'ra_lời', 'ra_ngôi', 'ra_người', 'ra_sao', 'ra_tay', 'ra_vào', 'ra_ý', 'ra_điều', 'ra_đây', 'ren_rén', 'riu_ríu', 'riêng', 'riêng_từng', 'riệt', 'rày', 'ráo', 'ráo_cả', 'ráo_nước', 'ráo_trọi', 'rén', 'rén_bước', 'rích', 'rón_rén', 'rõ', 'rõ_là', 'rõ_thật', 'rút_cục', 'răng', 'răng_răng', 'rất', 'rất_lâu', 'rằng', 'rằng_là', 'rốt_cuộc', 'rốt_cục', 'rồi', 'rồi_nữa', 'rồi_ra', 'rồi_sao', 'rồi_sau', 'rồi_tay', 'rồi_thì', 'rồi_xem', 'rồi_đây', 'rứa', 'sa_sả', 'sang', 'sang_năm', 'sang_sáng', 'sang_tay', 'sao', 'sao_bản', 'sao_bằng', 'sao_cho', 'sao_vậy', 'sao_đang', 'sau', 'sau_chót', 'sau_cuối', 'sau_cùng', 'sau_hết', 'sau_này', 'sau_nữa', 'sau_sau', 'sau_đây', 'sau_đó', 'so', 'so_với', 'song_le', 'suýt', 'suýt_nữa', 'sáng', 'sáng_ngày', 'sáng_rõ', 'sáng_thế', 'sáng_ý', 'sì', 'sì_sì', 'sất', 'sắp', 'sắp_đặt', 'sẽ', 'sẽ_biết', 'sẽ_hay', 'số', 'số_cho_biết', 'số_cụ_thể', 'số_loại', 'số_là', 'số_người', 'số_phần', 'số_thiếu', 'sốt_sột', 'sớm', 'sớm_ngày', 'sở_dĩ', 'sử_dụng', 'sự', 'sự_thế', 'sự_việc', 'tanh', 'tanh_tanh', 'tay', 'tay_quay', 'tha_hồ', 'tha_hồ_chơi', 'tha_hồ_ăn', 'than_ôi', 'thanh', 'thanh_ba', 'thanh_chuyển', 'thanh_không', 'thanh_thanh', 'thanh_tính', 'thanh_điều_kiện', 'thanh_điểm', 'thay_đổi', 'thay_đổi_tình_trạng', 'theo', 'theo_bước', 'theo_như', 'theo_tin', 'thi_thoảng', 'thiếu', 'thiếu_gì', 'thiếu_điểm', 'thoạt', 'thoạt_nghe', 'thoạt_nhiên', 'thoắt', 'thuần', 'thuần_ái', 'thuộc', 'thuộc_bài', 'thuộc_cách', 'thuộc_lại', 'thuộc_từ', 'thà', 'thà_là', 'thà_rằng', 'thành_ra', 'thành_thử', 'thái_quá', 'tháng', 'tháng_ngày', 'tháng_năm', 'tháng_tháng', 'thêm', 'thêm_chuyện', 'thêm_giờ', 'thêm_vào', 'thì', 'thì_giờ', 'thì_là', 'thì_phải', 'thì_ra', 'thì_thôi', 'thình_lình', 'thích', 'thích_cứ', 'thích_thuộc', 'thích_tự', 'thích_ý', 'thím', 'thôi', 'thôi_việc', 'thúng_thắng', 'thương_ôi', 'thường', 'thường_bị', 'thường_hay', 'thường_khi', 'thường_số', 'thường_sự', 'thường_thôi', 'thường_thường', 'thường_tính', 'thường_tại', 'thường_xuất_hiện', 'thường_đến', 'thảo_hèn', 'thảo_nào', 'thấp', 'thấp_cơ', 'thấp_thỏm', 'thấp_xuống', 'thấy', 'thấy_tháng', 'thẩy', 'thậm', 'thậm_chí', 'thậm_cấp', 'thậm_từ', 'thật', 'thật_chắc', 'thật_là', 'thật_lực', 'thật_quả', 'thật_ra', 'thật_sự', 'thật_thà', 'thật_tốt', 'thật_vậy', 'thế', 'thế_chuẩn_bị', 'thế_là', 'thế_lại', 'thế_mà', 'thế_nào', 'thế_nên', 'thế_ra', 'thế_sự', 'thế_thì', 'thế_thôi', 'thế_thường', 'thế_thế', 'thế_à', 'thế_đó', 'thếch', 'thỉnh_thoảng', 'thỏm', 'thốc', 'thốc_tháo', 'thốt', 'thốt_nhiên', 'thốt_nói', 'thốt_thôi', 'thộc', 'thời_gian', 'thời_gian_sử_dụng', 'thời_gian_tính', 'thời_điểm', 'thục_mạng', 'thứ', 'thứ_bản', 'thứ_đến', 'thửa', 'thực_hiện', 'thực_hiện_đúng', 'thực_ra', 'thực_sự', 'thực_tế', 'thực_vậy', 'tin', 'tin_thêm', 'tin_vào', 'tiếp_theo', 'tiếp_tục', 'tiếp_đó', 'tiện_thể', 'toà', 'toé_khói', 'toẹt', 'trong', 'trong_khi', 'trong_lúc', 'trong_mình', 'trong_ngoài', 'trong_này', 'trong_số', 'trong_vùng', 'trong_đó', 'trong_ấy', 'tránh', 'tránh_khỏi', 'tránh_ra', 'tránh_tình_trạng', 'tránh_xa', 'trên', 'trên_bộ', 'trên_dưới', 'trước', 'trước_hết', 'trước_khi', 'trước_kia', 'trước_nay', 'trước_ngày', 'trước_nhất', 'trước_sau', 'trước_tiên', 'trước_tuổi', 'trước_đây', 'trước_đó', 'trả', 'trả_của', 'trả_lại', 'trả_ngay', 'trả_trước', 'trếu_tráo', 'trển', 'trệt', 'trệu_trạo', 'trỏng', 'trời_đất_ơi', 'trở_thành', 'trừ_phi', 'trực_tiếp', 'trực_tiếp_làm', 'tuy', 'tuy_có', 'tuy_là', 'tuy_nhiên', 'tuy_rằng', 'tuy_thế', 'tuy_vậy', 'tuy_đã', 'tuyệt_nhiên', 'tuần_tự', 'tuốt_luốt', 'tuốt_tuồn_tuột', 'tuốt_tuột', 'tuổi', 'tuổi_cả', 'tuổi_tôi', 'tà_tà', 'tên', 'tên_chính', 'tên_cái', 'tên_họ', 'tên_tự', 'tênh', 'tênh_tênh', 'tìm', 'tìm_bạn', 'tìm_cách', 'tìm_hiểu', 'tìm_ra', 'tìm_việc', 'tình_trạng', 'tính', 'tính_cách', 'tính_căn', 'tính_người', 'tính_phỏng', 'tính_từ', 'tít_mù', 'tò_te', 'tôi', 'tôi_con', 'tông_tốc', 'tù_tì', 'tăm_tắp', 'tăng', 'tăng_chúng', 'tăng_cấp', 'tăng_giảm', 'tăng_thêm', 'tăng_thế', 'tại', 'tại_lòng', 'tại_nơi', 'tại_sao', 'tại_tôi', 'tại_vì', 'tại_đâu', 'tại_đây', 'tại_đó', 'tạo', 'tạo_cơ_hội', 'tạo_nên', 'tạo_ra', 'tạo_ý', 'tạo_điều_kiện', 'tấm', 'tấm_bản', 'tấm_các', 'tấn', 'tấn_tới', 'tất_cả', 'tất_cả_bao_nhiêu', 'tất_thảy', 'tất_tần_tật', 'tất_tật', 'tập_trung', 'tắp', 'tắp_lự', 'tắp_tắp', 'tọt', 'tỏ_ra', 'tỏ_vẻ', 'tốc_tả', 'tối_ư', 'tốt', 'tốt_bạn', 'tốt_bộ', 'tốt_hơn', 'tốt_mối', 'tốt_ngày', 'tột', 'tột_cùng', 'tớ', 'tới', 'tới_gần', 'tới_mức', 'tới_nơi', 'tới_thì', 'tức_thì', 'tức_tốc', 'từ', 'từ_căn', 'từ_giờ', 'từ_khi', 'từ_loại', 'từ_nay', 'từ_thế', 'từ_tính', 'từ_tại', 'từ_từ', 'từ_ái', 'từ_điều', 'từ_đó', 'từ_ấy', 'từng', 'từng_cái', 'từng_giờ', 'từng_nhà', 'từng_phần', 'từng_thời_gian', 'từng_đơn_vị', 'từng_ấy', 'tự', 'tự_cao', 'tự_khi', 'tự_lượng', 'tự_tính', 'tự_tạo', 'tự_vì', 'tự_ý', 'tự_ăn', 'tựu_trung', 'veo', 'veo_veo', 'việc', 'việc_gì', 'vung_thiên_địa', 'vung_tàn_tán', 'vung_tán_tàn', 'và', 'vài', 'vài_ba', 'vài_người', 'vài_nhà', 'vài_nơi', 'vài_tên', 'vài_điều', 'vào', 'vào_gặp', 'vào_khoảng', 'vào_lúc', 'vào_vùng', 'vào_đến', 'vâng', 'vâng_chịu', 'vâng_dạ', 'vâng_vâng', 'vâng_ý', 'vèo', 'vèo_vèo', 'vì', 'vì_chưng', 'vì_rằng', 'vì_sao', 'vì_thế', 'vì_vậy', 'ví_bằng', 'ví_dù', 'ví_phỏng', 'ví_thử', 'vô_hình_trung', 'vô_kể', 'vô_luận', 'vô_vàn', 'vùng', 'vùng_lên', 'vùng_nước', 'văng_tê', 'vượt', 'vượt_khỏi', 'vượt_quá', 'vạn_nhất', 'vả_chăng', 'vả_lại', 'vấn_đề', 'vấn_đề_quan_trọng', 'vẫn', 'vẫn_thế', 'vậy', 'vậy_là', 'vậy_mà', 'vậy_nên', 'vậy_ra', 'vậy_thì', 'vậy_ư', 'về', 'về_không', 'về_nước', 'về_phần', 'về_sau', 'về_tay', 'vị_trí', 'vị_tất', 'vốn_dĩ', 'với', 'với_lại', 'với_nhau', 'vở', 'vụt', 'vừa', 'vừa_khi', 'vừa_lúc', 'vừa_mới', 'vừa_qua', 'vừa_rồi', 'vừa_vừa', 'xa', 'xa_cách', 'xa_gần', 'xa_nhà', 'xa_tanh', 'xa_tắp', 'xa_xa', 'xa_xả', 'xem', 'xem_lại', 'xem_ra', 'xem_số', 'xin', 'xin_gặp', 'xin_vâng', 'xiết_bao', 'xon_xón', 'xoành_xoạch', 'xoét', 'xoẳn', 'xoẹt', 'xuất_hiện', 'xuất_kì_bất_ý', 'xuất_kỳ_bất_ý', 'xuể', 'xuống', 'xăm_xúi', 'xăm_xăm', 'xăm_xắm', 'xảy_ra', 'xềnh_xệch', 'xệp', 'xử_lý', 'yêu_cầu', 'à', 'à_này', 'à_ơi', 'ào', 'ào_vào', 'ào_ào', 'á', 'á_à', 'ái', 'ái_chà', 'ái_dà', 'áng', 'áng_như', 'âu_là', 'ít', 'ít_biết', 'ít_có', 'ít_hơn', 'ít_khi', 'ít_lâu', 'ít_nhiều', 'ít_nhất', 'ít_nữa', 'ít_quá', 'ít_ra', 'ít_thôi', 'ít_thấy', 'ô_hay', 'ô_hô', 'ô_kê', 'ô_kìa', 'ôi_chao', 'ôi_thôi', 'ông', 'ông_nhỏ', 'ông_tạo', 'ông_từ', 'ông_ấy', 'ông_ổng', 'úi', 'úi_chà', 'úi_dào', 'ý', 'ý_chừng', 'ý_da', 'ý_hoặc', 'ăn', 'ăn_chung', 'ăn_chắc', 'ăn_chịu', 'ăn_cuộc', 'ăn_hết', 'ăn_hỏi', 'ăn_làm', 'ăn_người', 'ăn_ngồi', 'ăn_quá', 'ăn_riêng', 'ăn_sáng', 'ăn_tay', 'ăn_trên', 'ăn_về', 'đang', 'đang_tay', 'đang_thì', 'điều', 'điều_gì', 'điều_kiện', 'điểm', 'điểm_chính', 'điểm_gặp', 'điểm_đầu_tiên', 'đành_đạch', 'đáng', 'đáng_kể', 'đáng_lí', 'đáng_lý', 'đáng_lẽ', 'đáng_số', 'đánh_giá', 'đánh_đùng', 'đáo_để', 'đâu', 'đâu_có', 'đâu_cũng', 'đâu_như', 'đâu_nào', 'đâu_phải', 'đâu_đâu', 'đâu_đây', 'đâu_đó', 'đây', 'đây_này', 'đây_rồi', 'đây_đó', 'đã', 'đã_hay', 'đã_không', 'đã_là', 'đã_lâu', 'đã_thế', 'đã_vậy', 'đã_đủ', 'đó', 'đó_đây', 'đúng', 'đúng_ngày', 'đúng_ra', 'đúng_tuổi', 'đúng_với', 'đơn_vị', 'đưa', 'đưa_cho', 'đưa_chuyện', 'đưa_em', 'đưa_ra', 'đưa_tay', 'đưa_tin', 'đưa_tới', 'đưa_vào', 'đưa_về', 'đưa_xuống', 'đưa_đến', 'được', 'được_cái', 'được_lời', 'được_nước', 'được_tin', 'đại_loại', 'đại_nhân', 'đại_phàm', 'đại_để', 'đạt', 'đảm_bảo', 'đầu_tiên', 'đầy', 'đầy_năm', 'đầy_phè', 'đầy_tuổi', 'đặc_biệt', 'đặt', 'đặt_làm', 'đặt_mình', 'đặt_mức', 'đặt_ra', 'đặt_trước', 'đặt_để', 'đến', 'đến_bao_giờ', 'đến_cùng', 'đến_cùng_cực', 'đến_cả', 'đến_giờ', 'đến_gần', 'đến_hay', 'đến_khi', 'đến_lúc', 'đến_lời', 'đến_nay', 'đến_ngày', 'đến_nơi', 'đến_nỗi', 'đến_thì', 'đến_thế', 'đến_tuổi', 'đến_xem', 'đến_điều', 'đến_đâu', 'đều', 'đều_bước', 'đều_nhau', 'đều_đều', 'để', 'để_cho', 'để_giống', 'để_không', 'để_lòng', 'để_lại', 'để_mà', 'để_phần', 'để_được', 'để_đến_nỗi', 'đối_với', 'đồng_thời', 'đủ', 'đủ_dùng', 'đủ_nơi', 'đủ_số', 'đủ_điều', 'đủ_điểm', 'ơ', 'ơ_hay', 'ơ_kìa', 'ơi', 'ơi_là', 'ư', 'ạ', 'ạ_ơi', 'ấy', 'ấy_là', 'ầu_ơ', 'ắt', 'ắt_hẳn', 'ắt_là', 'ắt_phải', 'ắt_thật', 'ối_dào', 'ối_giời', 'ối_giời_ơi', 'ồ', 'ồ_ồ', 'ổng', 'ớ', 'ớ_này', 'ờ', 'ờ_ờ', 'ở', 'ở_lại', 'ở_như', 'ở_nhờ', 'ở_năm', 'ở_trên', 'ở_vào', 'ở_đây', 'ở_đó', 'ở_được', 'ủa', 'ứ_hự', 'ứ_ừ', 'ừ', 'ừ_nhé', 'ừ_thì', 'ừ_ào', 'ừ_ừ', 'ử']\n"
          ]
        }
      ]
    },
    {
      "cell_type": "markdown",
      "source": [
        "Với bài toán nhận diện cảm xúc trong văn bản, điều quan trọng chính là lọc được các từ quan trọng, giúp ta suy được ra sắc thái của câu.\n",
        "\n",
        "Chúng ta sẽ xây dựng từ điển để lưu lại những từ quan trọng đó. Từ điển sẽ còn giúp ích rất lớn cho chúng ta không chỉ ở quá trình huấn luyện, mà còn ở quá trình đoán nhận"
      ],
      "metadata": {
        "id": "UbOy_V715Dly"
      }
    },
    {
      "cell_type": "code",
      "source": [
        "import string\n",
        "def docs_to_words(doc, tokenize=False):\n",
        "  # token hoa cac file\n",
        "  w = doc.translate(str.maketrans('', '', string.punctuation.replace('_', ''))).lower()\n",
        "  if (tokenize):\n",
        "    w = rdrsegment.segmentRawSentences(tokenizer, w)\n",
        "  tokens = w.split()\n",
        "  # loai bo cac hu tu\n",
        "  tokens = [w for w in tokens if not w in stop_words]\n",
        "  # loai bo cac thanh phan chua ky tu khong phai chu cai\n",
        "  # thay the dau _ bang to hop cac phim khong co trong tieng Viet\n",
        "  tokens = [w.replace(\"_\", \"ZWJ\") for w in tokens]\n",
        "  tokens = [word for word in tokens if word.isalpha()]\n",
        "  tokens = [w.replace(\"ZWJ\", \"_\") for w in tokens]\n",
        "  # lay nhung token co nhieu hon 1 ky tu\n",
        "  tokens = [word for word in tokens if len(word) > 1]\n",
        "  return tokens"
      ],
      "metadata": {
        "id": "AYCOuc46xD8K"
      },
      "execution_count": null,
      "outputs": []
    },
    {
      "cell_type": "code",
      "source": [
        "d = load_text(\"/content/drive/MyDrive/Dataset_Sentiment_Analysis/dataset/test/neg/29.txt\")\n",
        "print(docs_to_words(d))"
      ],
      "metadata": {
        "colab": {
          "base_uri": "https://localhost:8080/"
        },
        "id": "fsV5CyD50fRm",
        "outputId": "14cdc533-b412-4ead-e14f-edfd1d88372e"
      },
      "execution_count": null,
      "outputs": [
        {
          "output_type": "stream",
          "name": "stdout",
          "text": [
            "['quán', 'comments', 'khen', 'chỗ', 'tối', 'hôm_qua', 'rủ', 'mấy', 'đồng_nghiệp', 'thử', 'cảm_nhận', 'quán', 'bàn_ghế', 'sạch_sẽ', 'không_gian', 'ấm_áp', 'vắng_tanh', 'phục_vụ', 'món', 'chậm', 'quán', 'giải_thích', 'đun', 'nóng', 'gọi', 'gọi', 'món', 'bò', 'ngâm', 'dấm', 'đợi', 'lẩu', 'bắp', 'bò', 'nhạt', 'khô', 'miếng', 'ngấm', 'miếng', 'tóm_lại', 'ngon', 'lẩu', 'ban_đầu', 'gọi', 'nồi', 'lẩu', 'cua_đồng', 'chủ', 'quán', 'gật_gật', 'phút', 'nhân_viên', 'quán', 'nồi', 'lẩu', 'bếp', 'nồi', 'nồi', 'chủ', 'quán', 'xác_nhận', 'uh', 'nồi', 'lẩu', 'thịt', 'bò', 'úc', 'sườn', 'sụn', 'chả', 'rau_sống', 'bánh_đa', 'kèm', 'số_lượng', 'đồ_ăn', 'đắt', 'giá', 'tiền', 'nồi', 'lẩu', 'cua_đồng', 'lưng_lửng', 'bụng', 'ngon', 'lẩu', 'chất_lượng', 'đồ_ăn', 'thất_vọng', 'ngon', 'ngất_trời', 'comments', 'nồi', 'lẩu', 'hết_sức', 'bình_thường', 'lẩu', 'nhạt_nhẽo', 'me', 'dở_hơi', 'đổ', 'đọc', 'comment', 'hy_vọng', 'chán', 'lẩu', 'bê', 'ngon', 'chốt', 'quán', 'món', 'lạc', 'rang', 'muối', 'ớt', 'ngon', 'giá_mà', 'nồi', 'lẩu', 'riêu', 'cua', 'quán', 'góc_hà_nội', 'hồ', 'thiền_quang', 'cảm_nhận', 'khác_biệt', 'rõ_rệt', 'một_trời_một_vực', 'lắm', 'chấm', 'quán', 'như_thế_này', 'đi', 'đồng_nghiệp', 'tiện', 'chụp', 'ảnh', 'ảnh', 'facebook', 'quán', 'nồi', 'lẩu', 'món', 'bò', 'ngâm', 'dấm', 'ảnh', 'hóa_đơn', 'chụp']\n"
          ]
        }
      ]
    },
    {
      "cell_type": "code",
      "source": [
        "from IPython.display import clear_output\n",
        "from tqdm import tqdm\n",
        "def vocabularize(filename, vocab, tokenize=False):\n",
        "\tdoc = load_text(filename)\n",
        "\ttokens = docs_to_words(doc, tokenize)\n",
        "\tvocab.update(tokens)\n",
        " \n",
        "# load all docs in a directory\n",
        "def process_docs_for_vocab(root_dir, vocab, tokenize=False):\n",
        "\t# walk through all files in the folder\n",
        "  directories = get_paths(root_dir)\n",
        "  length = len(directories)\n",
        "  count = 0\n",
        "  for filename in tqdm(directories):\n",
        "    vocabularize(filename, vocab, tokenize)"
      ],
      "metadata": {
        "id": "pl1nfOiPHq8Z"
      },
      "execution_count": null,
      "outputs": []
    },
    {
      "cell_type": "code",
      "source": [
        "from collections import Counter\n",
        "import string\n",
        "# define vocab\n",
        "vocab = Counter()\n",
        "vocab1 = Counter()\n",
        "vocab2 = Counter()\n",
        "# add all docs to vocab\n",
        "process_docs_for_vocab('/content/drive/MyDrive/Dataset_Sentiment_Analysis/dataset/test', vocab)\n",
        "process_docs_for_vocab('/content/drive/MyDrive/Dataset_Sentiment_Analysis/dataset/validate', vocab)\n",
        "process_docs_for_vocab('/content/drive/MyDrive/Dataset_Sentiment_Analysis/dataset/train/neg', vocab1)\n",
        "process_docs_for_vocab('/content/drive/MyDrive/Dataset_Sentiment_Analysis/dataset/train/pos', vocab2)\n",
        "vocab = vocab + vocab1 + vocab2\n",
        "# print the size of the vocab\n",
        "print(len(vocab))\n",
        "# print the top words in the vocab\n",
        "print(vocab.most_common(50))"
      ],
      "metadata": {
        "id": "Z6PALeEuI1_q",
        "colab": {
          "base_uri": "https://localhost:8080/"
        },
        "outputId": "c0ea7b85-3d00-4a16-9338-25f35401186b"
      },
      "execution_count": null,
      "outputs": [
        {
          "output_type": "stream",
          "name": "stderr",
          "text": [
            "100%|██████████| 10010/10010 [44:42<00:00,  3.73it/s]\n",
            "100%|██████████| 10000/10000 [44:04<00:00,  3.78it/s]\n",
            "100%|██████████| 15000/15000 [05:13<00:00, 47.80it/s] \n",
            "100%|██████████| 15008/15008 [04:59<00:00, 50.03it/s] \n"
          ]
        },
        {
          "output_type": "stream",
          "name": "stdout",
          "text": [
            "41874\n",
            "[('quán', 55439), ('ngon', 41634), ('món', 28541), ('đi', 26720), ('ko', 26303), ('nhân_viên', 22479), ('uống', 18029), ('phục_vụ', 17359), ('hơi', 15920), ('bánh', 15256), ('lắm', 14587), ('giá', 14294), ('gọi', 13992), ('không_gian', 13548), ('trà', 12983), ('ng', 11764), ('mấy', 10593), ('vị', 10299), ('chỗ', 9863), ('thử', 9825), ('đồ_ăn', 9592), ('đẹp', 9256), ('kem', 8904), ('đồ', 8551), ('xe', 8357), ('đông', 8135), ('bàn', 8028), ('thịt', 7921), ('ghé', 7701), ('đc', 7590), ('mua', 7122), ('tiền', 6966), ('ly', 6873), ('nướng', 6787), ('nhiệt_tình', 6742), ('sữa', 6614), ('nh', 6607), ('chất_lượng', 6532), ('rẻ', 6466), ('bò', 6347), ('gà', 6307), ('giá_cả', 6162), ('thơm', 5933), ('cơm', 5756), ('kêu', 5679), ('xong', 5674), ('chủ', 5394), ('ok', 5304), ('la', 5159), ('dễ_thương', 5001)]\n"
          ]
        }
      ]
    },
    {
      "cell_type": "markdown",
      "source": [
        "Ta sẽ lọc ra những từ xuất hiện ít nhất 2 lần, rồi lưu lại vào file"
      ],
      "metadata": {
        "id": "ny0faSOUace6"
      }
    },
    {
      "cell_type": "code",
      "source": [
        "# keep tokens with a min occurrence\n",
        "min_occurrence = 2\n",
        "tokens = [k for k,c in vocab.items() if c >= min_occurrence]\n",
        "\n",
        "def save_list(lines, filename):\n",
        "\tdata = '\\n'.join(lines)\n",
        "\tfile = open(filename, 'w')\n",
        "\tfile.write(data)\n",
        "\tfile.close()\n",
        " \n",
        "# save tokens to a vocabulary file\n",
        "save_list(tokens, '/content/drive/MyDrive/Dataset_Sentiment_Analysis/vocab.txt')"
      ],
      "metadata": {
        "id": "wJ8C-RIdOHzE"
      },
      "execution_count": null,
      "outputs": []
    },
    {
      "cell_type": "code",
      "source": [
        "vocab_filename = '/content/drive/MyDrive/Dataset_Sentiment_Analysis/vocab.txt'\n",
        "vocab = load_text(vocab_filename)\n",
        "vocab = vocab.split()\n",
        "vocab = set(vocab)"
      ],
      "metadata": {
        "id": "TFgXPgt2zSB0"
      },
      "execution_count": null,
      "outputs": []
    },
    {
      "cell_type": "markdown",
      "source": [
        "<h3> Chuẩn bị dữ liệu để đưa vào mô hình học máy:"
      ],
      "metadata": {
        "id": "8JeiO-PxLDQp"
      }
    },
    {
      "cell_type": "markdown",
      "source": [
        "Ta sẽ nhập những thư viện cần thiết vào"
      ],
      "metadata": {
        "id": "NbN7OThJaimL"
      }
    },
    {
      "cell_type": "code",
      "source": [
        "import keras\n",
        "from keras.preprocessing.sequence import pad_sequences\n",
        "from keras.models import Sequential\n",
        "from keras.layers import Dense\n",
        "from keras.layers import LSTM\n",
        "from keras.layers import Flatten\n",
        "from keras.layers import Embedding\n",
        "import numpy as np"
      ],
      "metadata": {
        "id": "gRJ8Lp-qLCw_"
      },
      "execution_count": null,
      "outputs": []
    },
    {
      "cell_type": "markdown",
      "source": [
        "Tiếp theo, ta sẽ bắt đầu làm sạch dữ liệu trong dataset, và chỉ lấy những từ xuất hiện trong từ điển"
      ],
      "metadata": {
        "id": "p8IE6VbzaoNc"
      }
    },
    {
      "cell_type": "code",
      "source": [
        "def clean_doc(doc, vocab, tokenize=False):\n",
        "  # token hoa cac file\n",
        "  w = doc.translate(str.maketrans('', '', string.punctuation.replace('_', ''))).lower()\n",
        "  if (tokenize):\n",
        "    w = rdrsegment.segmentRawSentences(tokenizer, w)\n",
        "  tokens = w.split()\n",
        "  # lay nhung token co nhieu hon 1 ky tu\n",
        "  tokens = [w for w in tokens if w in vocab]\n",
        "  tokens = ' '.join(tokens)\n",
        "  return tokens"
      ],
      "metadata": {
        "id": "rOzNj6ZIRevB"
      },
      "execution_count": null,
      "outputs": []
    },
    {
      "cell_type": "markdown",
      "source": [
        "Ta sẽ xuất dataset dưới dạng list các string."
      ],
      "metadata": {
        "id": "2fa_caFUa3VC"
      }
    },
    {
      "cell_type": "code",
      "source": [
        "def prep_dataset(root_dir, vocab, tokenize=False):\n",
        "\t# walk through all files in the folder\n",
        "  documents = list()\n",
        "  directories = get_paths(root_dir)\n",
        "  length = len(directories)\n",
        "  for filename in tqdm(directories):\n",
        "    doc = load_text(filename)\n",
        "    tokens = clean_doc(doc, vocab)\n",
        "    documents.append(tokens)\n",
        "  return documents"
      ],
      "metadata": {
        "id": "s7PA0seiSE0c"
      },
      "execution_count": null,
      "outputs": []
    },
    {
      "cell_type": "code",
      "source": [
        "# load all training reviews\n",
        "positive_docs = prep_dataset('/content/drive/MyDrive/Dataset_Sentiment_Analysis/dataset/train/pos', vocab)\n",
        "negative_docs = prep_dataset('/content/drive/MyDrive/Dataset_Sentiment_Analysis/dataset/train/neg', vocab)\n",
        "train_docs = negative_docs + positive_docs"
      ],
      "metadata": {
        "colab": {
          "base_uri": "https://localhost:8080/"
        },
        "id": "6O0Q7BlcS0-3",
        "outputId": "ab4ad898-d5c2-4eb7-875a-342b391a1e71"
      },
      "execution_count": null,
      "outputs": [
        {
          "output_type": "stream",
          "name": "stderr",
          "text": [
            "100%|██████████| 15008/15008 [00:33<00:00, 444.79it/s]\n",
            "100%|██████████| 15000/15000 [00:33<00:00, 447.98it/s]\n"
          ]
        }
      ]
    },
    {
      "cell_type": "code",
      "source": [
        "negative_docs[0]"
      ],
      "metadata": {
        "colab": {
          "base_uri": "https://localhost:8080/",
          "height": 35
        },
        "id": "VGjhxxk7VOhx",
        "outputId": "dcd89d8a-765c-4960-ad1d-14137350d976"
      },
      "execution_count": null,
      "outputs": [
        {
          "output_type": "execute_result",
          "data": {
            "text/plain": [
              "'quán đồ nhật quán bình thuờng đắt món dừng tuơng đối giá lợi_thế duy_nhất quán khu_phố cổ nhà_thờ tiện ăn_uống đi_lại chẳng'"
            ],
            "application/vnd.google.colaboratory.intrinsic+json": {
              "type": "string"
            }
          },
          "metadata": {},
          "execution_count": 34
        }
      ]
    },
    {
      "cell_type": "markdown",
      "source": [
        "Giờ, ta sẽ vector hóa các câu trong bộ dữ liệu train. \n",
        "\n",
        "Chúng ta sử dụng 2 hàm sau:\n",
        "\n",
        "fit_on_texts: Tạo ra một từ điển riêng cho mô hình học máy, index của từ điển này sẽ dựa trên tần suất xuất hiện của từ. Từ xuất hiện càng nhiều, index sẽ càng thấp. Index sẽ bắt đầu từ 1, index 0 được dành riêng để phục vụ padding. Mỗi một từ sẽ có một index riêng biệt.\n",
        "\n",
        "texts_to_sequences: chuyển các từ trong câu thành một chuỗi các số nguyên. Cách chuyển được dựa trên từ điển sinh ra từ hàm fit_on_texts."
      ],
      "metadata": {
        "id": "KgKBEsaTiDFt"
      }
    },
    {
      "cell_type": "code",
      "source": [
        "# create the tokenizer\n",
        "k_tokenizer = keras.preprocessing.text.Tokenizer()\n",
        "# fit the tokenizer on the documents\n",
        "k_tokenizer.fit_on_texts(train_docs)"
      ],
      "metadata": {
        "id": "Rid8NgLcLj2J"
      },
      "execution_count": null,
      "outputs": []
    },
    {
      "cell_type": "markdown",
      "source": [
        "Các văn bản khác nhau sẽ có độ dài khác nhau. Ta sẽ cần chọn một độ dài hợp lý. Nếu để văn bản quá dài, chúng ta có thể tạo ra các vector thưa, khiến hiệu năng của máy học giảm. Nếu cắt văn bản quá ngắn, ta có thể sẽ cắt mất thông tin. Chính vì vậy, ta sẽ thử thống kê độ dài của văn bản. Biểu đồ bên dưới sẽ cho ta thấy phân bố dộ dài văn bản. "
      ],
      "metadata": {
        "id": "Z-caCZyujqCc"
      }
    },
    {
      "cell_type": "code",
      "source": [
        "# sequence encode\n",
        "encoded_docs = k_tokenizer.texts_to_sequences(train_docs)"
      ],
      "metadata": {
        "id": "O-di9ygdMUQC"
      },
      "execution_count": null,
      "outputs": []
    },
    {
      "cell_type": "code",
      "source": [
        "import matplotlib.pyplot as plt\n",
        "from collections import Counter\n",
        "a = plt.figure(figsize=(15,10))\n",
        "x = [len(i) for i in encoded_docs]\n",
        "stat = Counter(x)\n",
        "X, Y = [x for x, y in stat.items()], [y for x, y in stat.items()]\n",
        "plt.scatter(X, Y)\n",
        "plt.show()"
      ],
      "metadata": {
        "colab": {
          "base_uri": "https://localhost:8080/",
          "height": 592
        },
        "id": "3N81ACyf0hc4",
        "outputId": "d11ccd6e-e545-4b27-f5f5-6adc50488237"
      },
      "execution_count": null,
      "outputs": [
        {
          "output_type": "display_data",
          "data": {
            "text/plain": [
              "<Figure size 1080x720 with 1 Axes>"
            ],
            "image/png": "[encoded data removed]"
          },
          "metadata": {
            "needs_background": "light"
          }
        }
      ]
    },
    {
      "cell_type": "markdown",
      "source": [
        "Ta thấy rằng các văn bản có độ tập trung lớn nhất trong khoảng từ 0 -> 150 từ. Ta sẽ chọn kích cỡ là 200. Nếu dài quá, ta sẽ cắt ngắn văn bản đi. Nếu ngắn quá, ta sẽ thêm padding vào cuối văn bản. Tất cả sẽ được thực hiện tự động thông qua hàm pad_sequences của Keras.\n",
        "\n",
        "Ta cũng sẽ làm tương tự với tập dữ liệu test"
      ],
      "metadata": {
        "id": "WO-Canfpkks6"
      }
    },
    {
      "cell_type": "code",
      "source": [
        "# sequence encode\n",
        "encoded_docs = k_tokenizer.texts_to_sequences(train_docs)\n",
        "# pad sequences\n",
        "# max_length = max([len(s.split()) for s in train_docs]) #200\n",
        "max_length = 200\n",
        "Xtrain = pad_sequences(encoded_docs, maxlen=max_length, padding='post')\n",
        "# define training labels\n",
        "size_neg = len(negative_docs)\n",
        "size_pos = len(positive_docs)\n",
        "ytrain = np.array([0 for _ in range(size_neg)] + [1 for _ in range(size_pos)])"
      ],
      "metadata": {
        "id": "TXgFLme1kipO"
      },
      "execution_count": null,
      "outputs": []
    },
    {
      "cell_type": "code",
      "source": [
        "# load all test reviews\n",
        "positive_test = prep_dataset('/content/drive/MyDrive/Dataset_Sentiment_Analysis/dataset/test/pos', vocab)\n",
        "negative_test = prep_dataset('/content/drive/MyDrive/Dataset_Sentiment_Analysis/dataset/test/neg', vocab)\n",
        "test_docs = negative_test + positive_test"
      ],
      "metadata": {
        "colab": {
          "base_uri": "https://localhost:8080/"
        },
        "id": "gVpMJNetT9yC",
        "outputId": "49094680-0244-4a25-d010-95eff46a6950"
      },
      "execution_count": null,
      "outputs": [
        {
          "output_type": "stream",
          "name": "stderr",
          "text": [
            "100%|██████████| 5000/5000 [00:11<00:00, 444.49it/s]\n",
            "100%|██████████| 5010/5010 [00:11<00:00, 453.11it/s]\n"
          ]
        }
      ]
    },
    {
      "cell_type": "code",
      "source": [
        "# sequence encode\n",
        "encoded_docs = k_tokenizer.texts_to_sequences(test_docs)\n",
        "# pad sequences\n",
        "Xtest = pad_sequences(encoded_docs, maxlen=max_length, padding='post')\n",
        "# define test labels\n",
        "ytest = np.array([0 for _ in range(len(negative_test))] + [1 for _ in range(len(positive_test))])"
      ],
      "metadata": {
        "id": "QX76DFSLUOXk"
      },
      "execution_count": null,
      "outputs": []
    },
    {
      "cell_type": "markdown",
      "source": [
        "Ta định nghĩa vocab_size, cũng chính là độ lớn của vocab thu được từ hàm fit_to_texts."
      ],
      "metadata": {
        "id": "4s0tCUorln_H"
      }
    },
    {
      "cell_type": "code",
      "source": [
        "# define vocabulary size (largest integer value)\n",
        "vocab_size = len(k_tokenizer.word_index) + 1"
      ],
      "metadata": {
        "id": "0nKVvAHCVmqu"
      },
      "execution_count": null,
      "outputs": []
    },
    {
      "cell_type": "markdown",
      "source": [
        "Ta định nghĩa mô hình học máy và thực hiện huấn luyện. Mạng của chúng ta sẽ khá đơn giản, gồm 3 lớp: Một lớp Embedding, một lớp LSTM và một lớp FC để đoán nhận. Độ chính xác của mô hình này sau 70 epochs là 85%."
      ],
      "metadata": {
        "id": "RW-dvbzElsrD"
      }
    },
    {
      "cell_type": "code",
      "source": [
        "from keras.callbacks import ModelCheckpoint\n",
        "model1 = Sequential()\n",
        "#model1.add(embedding_layer)\n",
        "model1.add(Embedding(vocab_size, 20)) #The embedding layer\n",
        "model1.add(LSTM(15,dropout=0.3)) #Our LSTM layer\n",
        "model1.add(Dense(1,activation='sigmoid'))\n",
        "\n",
        "\n",
        "model1.compile(optimizer='rmsprop',loss='binary_crossentropy', metrics=['accuracy'])\n",
        "\n",
        "checkpoint1 = ModelCheckpoint(\"best_model1.hdf5\", monitor='val_accuracy', verbose=1,save_best_only=True, mode='auto', period=1,save_weights_only=False)\n",
        "history = model1.fit(Xtrain, ytrain, epochs=70,validation_data=(Xtest, ytest),callbacks=[checkpoint1])"
      ],
      "metadata": {
        "colab": {
          "base_uri": "https://localhost:8080/"
        },
        "id": "1H_GixtYg0NM",
        "outputId": "c44030e2-595a-4000-9273-ff92fb0d9c0b"
      },
      "execution_count": null,
      "outputs": [
        {
          "output_type": "stream",
          "name": "stdout",
          "text": [
            "WARNING:tensorflow:`period` argument is deprecated. Please use `save_freq` to specify the frequency in number of batches seen.\n",
            "Epoch 1/70\n",
            "937/938 [============================>.] - ETA: 0s - loss: 0.6934 - accuracy: 0.4967\n",
            "Epoch 1: val_accuracy improved from -inf to 0.50050, saving model to best_model1.hdf5\n",
            "938/938 [==============================] - 36s 36ms/step - loss: 0.6934 - accuracy: 0.4969 - val_loss: 0.6933 - val_accuracy: 0.5005\n",
            "Epoch 2/70\n",
            "937/938 [============================>.] - ETA: 0s - loss: 0.6933 - accuracy: 0.5006\n",
            "Epoch 2: val_accuracy improved from 0.50050 to 0.50070, saving model to best_model1.hdf5\n",
            "938/938 [==============================] - 33s 36ms/step - loss: 0.6933 - accuracy: 0.5006 - val_loss: 0.6931 - val_accuracy: 0.5007\n",
            "Epoch 3/70\n",
            "938/938 [==============================] - ETA: 0s - loss: 0.6272 - accuracy: 0.6629\n",
            "Epoch 3: val_accuracy improved from 0.50070 to 0.67313, saving model to best_model1.hdf5\n",
            "938/938 [==============================] - 33s 36ms/step - loss: 0.6272 - accuracy: 0.6629 - val_loss: 0.6151 - val_accuracy: 0.6731\n",
            "Epoch 4/70\n",
            "937/938 [============================>.] - ETA: 0s - loss: 0.6130 - accuracy: 0.6797\n",
            "Epoch 4: val_accuracy did not improve from 0.67313\n",
            "938/938 [==============================] - 33s 35ms/step - loss: 0.6129 - accuracy: 0.6798 - val_loss: 0.6173 - val_accuracy: 0.6719\n",
            "Epoch 5/70\n",
            "937/938 [============================>.] - ETA: 0s - loss: 0.6205 - accuracy: 0.6659\n",
            "Epoch 5: val_accuracy improved from 0.67313 to 0.68811, saving model to best_model1.hdf5\n",
            "938/938 [==============================] - 33s 35ms/step - loss: 0.6206 - accuracy: 0.6658 - val_loss: 0.6079 - val_accuracy: 0.6881\n",
            "Epoch 6/70\n",
            "937/938 [============================>.] - ETA: 0s - loss: 0.6155 - accuracy: 0.6683\n",
            "Epoch 6: val_accuracy did not improve from 0.68811\n",
            "938/938 [==============================] - 33s 35ms/step - loss: 0.6155 - accuracy: 0.6682 - val_loss: 0.6158 - val_accuracy: 0.6649\n",
            "Epoch 7/70\n",
            "937/938 [============================>.] - ETA: 0s - loss: 0.6111 - accuracy: 0.6671\n",
            "Epoch 7: val_accuracy did not improve from 0.68811\n",
            "938/938 [==============================] - 33s 36ms/step - loss: 0.6111 - accuracy: 0.6671 - val_loss: 0.6050 - val_accuracy: 0.6709\n",
            "Epoch 8/70\n",
            "937/938 [============================>.] - ETA: 0s - loss: 0.5823 - accuracy: 0.6878\n",
            "Epoch 8: val_accuracy improved from 0.68811 to 0.71798, saving model to best_model1.hdf5\n",
            "938/938 [==============================] - 33s 35ms/step - loss: 0.5823 - accuracy: 0.6877 - val_loss: 0.5669 - val_accuracy: 0.7180\n",
            "Epoch 9/70\n",
            "937/938 [============================>.] - ETA: 0s - loss: 0.5693 - accuracy: 0.7042\n",
            "Epoch 9: val_accuracy did not improve from 0.71798\n",
            "938/938 [==============================] - 33s 35ms/step - loss: 0.5692 - accuracy: 0.7042 - val_loss: 0.5854 - val_accuracy: 0.6770\n",
            "Epoch 10/70\n",
            "937/938 [============================>.] - ETA: 0s - loss: 0.5740 - accuracy: 0.6907\n",
            "Epoch 10: val_accuracy did not improve from 0.71798\n",
            "938/938 [==============================] - 33s 35ms/step - loss: 0.5741 - accuracy: 0.6906 - val_loss: 0.5647 - val_accuracy: 0.7027\n",
            "Epoch 11/70\n",
            "937/938 [============================>.] - ETA: 0s - loss: 0.5596 - accuracy: 0.7156\n",
            "Epoch 11: val_accuracy improved from 0.71798 to 0.74875, saving model to best_model1.hdf5\n",
            "938/938 [==============================] - 33s 35ms/step - loss: 0.5595 - accuracy: 0.7156 - val_loss: 0.5430 - val_accuracy: 0.7488\n",
            "Epoch 12/70\n",
            "937/938 [============================>.] - ETA: 0s - loss: 0.5483 - accuracy: 0.7291\n",
            "Epoch 12: val_accuracy did not improve from 0.74875\n",
            "938/938 [==============================] - 33s 35ms/step - loss: 0.5483 - accuracy: 0.7291 - val_loss: 0.6001 - val_accuracy: 0.6676\n",
            "Epoch 13/70\n",
            "937/938 [============================>.] - ETA: 0s - loss: 0.5573 - accuracy: 0.7115\n",
            "Epoch 13: val_accuracy did not improve from 0.74875\n",
            "938/938 [==============================] - 33s 35ms/step - loss: 0.5573 - accuracy: 0.7115 - val_loss: 0.5536 - val_accuracy: 0.7265\n",
            "Epoch 14/70\n",
            "937/938 [============================>.] - ETA: 0s - loss: 0.5444 - accuracy: 0.7275\n",
            "Epoch 14: val_accuracy did not improve from 0.74875\n",
            "938/938 [==============================] - 33s 35ms/step - loss: 0.5442 - accuracy: 0.7276 - val_loss: 0.5588 - val_accuracy: 0.7392\n",
            "Epoch 15/70\n",
            "937/938 [============================>.] - ETA: 0s - loss: 0.5288 - accuracy: 0.7424\n",
            "Epoch 15: val_accuracy did not improve from 0.74875\n",
            "938/938 [==============================] - 33s 35ms/step - loss: 0.5288 - accuracy: 0.7424 - val_loss: 0.5353 - val_accuracy: 0.7378\n",
            "Epoch 16/70\n",
            "937/938 [============================>.] - ETA: 0s - loss: 0.5275 - accuracy: 0.7499\n",
            "Epoch 16: val_accuracy improved from 0.74875 to 0.75205, saving model to best_model1.hdf5\n",
            "938/938 [==============================] - 33s 35ms/step - loss: 0.5275 - accuracy: 0.7498 - val_loss: 0.5162 - val_accuracy: 0.7520\n",
            "Epoch 17/70\n",
            "937/938 [============================>.] - ETA: 0s - loss: 0.5237 - accuracy: 0.7532\n",
            "Epoch 17: val_accuracy improved from 0.75205 to 0.76354, saving model to best_model1.hdf5\n",
            "938/938 [==============================] - 34s 36ms/step - loss: 0.5238 - accuracy: 0.7531 - val_loss: 0.5264 - val_accuracy: 0.7635\n",
            "Epoch 18/70\n",
            "937/938 [============================>.] - ETA: 0s - loss: 0.5187 - accuracy: 0.7623\n",
            "Epoch 18: val_accuracy did not improve from 0.76354\n",
            "938/938 [==============================] - 34s 36ms/step - loss: 0.5187 - accuracy: 0.7623 - val_loss: 0.5197 - val_accuracy: 0.7589\n",
            "Epoch 19/70\n",
            "937/938 [============================>.] - ETA: 0s - loss: 0.5100 - accuracy: 0.7636\n",
            "Epoch 19: val_accuracy improved from 0.76354 to 0.76733, saving model to best_model1.hdf5\n",
            "938/938 [==============================] - 33s 35ms/step - loss: 0.5100 - accuracy: 0.7636 - val_loss: 0.5089 - val_accuracy: 0.7673\n",
            "Epoch 20/70\n",
            "937/938 [============================>.] - ETA: 0s - loss: 0.5057 - accuracy: 0.7685\n",
            "Epoch 20: val_accuracy did not improve from 0.76733\n",
            "938/938 [==============================] - 33s 35ms/step - loss: 0.5055 - accuracy: 0.7686 - val_loss: 0.5235 - val_accuracy: 0.7582\n",
            "Epoch 21/70\n",
            "937/938 [============================>.] - ETA: 0s - loss: 0.5065 - accuracy: 0.7706\n",
            "Epoch 21: val_accuracy improved from 0.76733 to 0.77043, saving model to best_model1.hdf5\n",
            "938/938 [==============================] - 33s 35ms/step - loss: 0.5065 - accuracy: 0.7706 - val_loss: 0.5152 - val_accuracy: 0.7704\n",
            "Epoch 22/70\n",
            "937/938 [============================>.] - ETA: 0s - loss: 0.5081 - accuracy: 0.7692\n",
            "Epoch 22: val_accuracy did not improve from 0.77043\n",
            "938/938 [==============================] - 33s 35ms/step - loss: 0.5081 - accuracy: 0.7692 - val_loss: 0.5053 - val_accuracy: 0.7703\n",
            "Epoch 23/70\n",
            "937/938 [============================>.] - ETA: 0s - loss: 0.5089 - accuracy: 0.7647\n",
            "Epoch 23: val_accuracy did not improve from 0.77043\n",
            "938/938 [==============================] - 33s 35ms/step - loss: 0.5088 - accuracy: 0.7647 - val_loss: 0.5221 - val_accuracy: 0.7562\n",
            "Epoch 24/70\n",
            "937/938 [============================>.] - ETA: 0s - loss: 0.5063 - accuracy: 0.7663\n",
            "Epoch 24: val_accuracy did not improve from 0.77043\n",
            "938/938 [==============================] - 33s 35ms/step - loss: 0.5062 - accuracy: 0.7664 - val_loss: 0.5207 - val_accuracy: 0.7555\n",
            "Epoch 25/70\n",
            "937/938 [============================>.] - ETA: 0s - loss: 0.5340 - accuracy: 0.7420\n",
            "Epoch 25: val_accuracy did not improve from 0.77043\n",
            "938/938 [==============================] - 33s 35ms/step - loss: 0.5338 - accuracy: 0.7421 - val_loss: 0.5370 - val_accuracy: 0.7569\n",
            "Epoch 26/70\n",
            "937/938 [============================>.] - ETA: 0s - loss: 0.5199 - accuracy: 0.7528\n",
            "Epoch 26: val_accuracy did not improve from 0.77043\n",
            "938/938 [==============================] - 33s 35ms/step - loss: 0.5199 - accuracy: 0.7528 - val_loss: 0.5710 - val_accuracy: 0.6844\n",
            "Epoch 27/70\n",
            "937/938 [============================>.] - ETA: 0s - loss: 0.5173 - accuracy: 0.7565\n",
            "Epoch 27: val_accuracy did not improve from 0.77043\n",
            "938/938 [==============================] - 33s 35ms/step - loss: 0.5173 - accuracy: 0.7565 - val_loss: 0.5159 - val_accuracy: 0.7650\n",
            "Epoch 28/70\n",
            "937/938 [============================>.] - ETA: 0s - loss: 0.5264 - accuracy: 0.7590\n",
            "Epoch 28: val_accuracy did not improve from 0.77043\n",
            "938/938 [==============================] - 33s 35ms/step - loss: 0.5263 - accuracy: 0.7591 - val_loss: 0.5267 - val_accuracy: 0.7525\n",
            "Epoch 29/70\n",
            "937/938 [============================>.] - ETA: 0s - loss: 0.5429 - accuracy: 0.7456\n",
            "Epoch 29: val_accuracy did not improve from 0.77043\n",
            "938/938 [==============================] - 33s 35ms/step - loss: 0.5429 - accuracy: 0.7456 - val_loss: 0.5533 - val_accuracy: 0.7568\n",
            "Epoch 30/70\n",
            "937/938 [============================>.] - ETA: 0s - loss: 0.5146 - accuracy: 0.7631\n",
            "Epoch 30: val_accuracy did not improve from 0.77043\n",
            "938/938 [==============================] - 33s 36ms/step - loss: 0.5146 - accuracy: 0.7631 - val_loss: 0.5191 - val_accuracy: 0.7596\n",
            "Epoch 31/70\n",
            "937/938 [============================>.] - ETA: 0s - loss: 0.5144 - accuracy: 0.7678\n",
            "Epoch 31: val_accuracy did not improve from 0.77043\n",
            "938/938 [==============================] - 34s 36ms/step - loss: 0.5143 - accuracy: 0.7679 - val_loss: 0.5606 - val_accuracy: 0.7391\n",
            "Epoch 32/70\n",
            "937/938 [============================>.] - ETA: 0s - loss: 0.5241 - accuracy: 0.7558\n",
            "Epoch 32: val_accuracy did not improve from 0.77043\n",
            "938/938 [==============================] - 34s 36ms/step - loss: 0.5242 - accuracy: 0.7558 - val_loss: 0.5354 - val_accuracy: 0.7470\n",
            "Epoch 33/70\n",
            "937/938 [============================>.] - ETA: 0s - loss: 0.5279 - accuracy: 0.7580\n",
            "Epoch 33: val_accuracy did not improve from 0.77043\n",
            "938/938 [==============================] - 34s 36ms/step - loss: 0.5279 - accuracy: 0.7580 - val_loss: 0.5636 - val_accuracy: 0.7420\n",
            "Epoch 34/70\n",
            "937/938 [============================>.] - ETA: 0s - loss: 0.5221 - accuracy: 0.7685\n",
            "Epoch 34: val_accuracy did not improve from 0.77043\n",
            "938/938 [==============================] - 34s 36ms/step - loss: 0.5220 - accuracy: 0.7685 - val_loss: 0.5110 - val_accuracy: 0.7567\n",
            "Epoch 35/70\n",
            "937/938 [============================>.] - ETA: 0s - loss: 0.4940 - accuracy: 0.7639\n",
            "Epoch 35: val_accuracy did not improve from 0.77043\n",
            "938/938 [==============================] - 34s 36ms/step - loss: 0.4939 - accuracy: 0.7640 - val_loss: 0.5260 - val_accuracy: 0.7500\n",
            "Epoch 36/70\n",
            "937/938 [============================>.] - ETA: 0s - loss: 0.5148 - accuracy: 0.7545\n",
            "Epoch 36: val_accuracy did not improve from 0.77043\n",
            "938/938 [==============================] - 33s 36ms/step - loss: 0.5147 - accuracy: 0.7545 - val_loss: 0.5235 - val_accuracy: 0.7598\n",
            "Epoch 37/70\n",
            "937/938 [============================>.] - ETA: 0s - loss: 0.5286 - accuracy: 0.7467\n",
            "Epoch 37: val_accuracy did not improve from 0.77043\n",
            "938/938 [==============================] - 33s 35ms/step - loss: 0.5287 - accuracy: 0.7467 - val_loss: 0.5319 - val_accuracy: 0.7428\n",
            "Epoch 38/70\n",
            "937/938 [============================>.] - ETA: 0s - loss: 0.5107 - accuracy: 0.7590\n",
            "Epoch 38: val_accuracy did not improve from 0.77043\n",
            "938/938 [==============================] - 33s 35ms/step - loss: 0.5107 - accuracy: 0.7590 - val_loss: 0.5139 - val_accuracy: 0.7597\n",
            "Epoch 39/70\n",
            "937/938 [============================>.] - ETA: 0s - loss: 0.5032 - accuracy: 0.7561\n",
            "Epoch 39: val_accuracy did not improve from 0.77043\n",
            "938/938 [==============================] - 33s 36ms/step - loss: 0.5032 - accuracy: 0.7562 - val_loss: 0.5330 - val_accuracy: 0.7549\n",
            "Epoch 40/70\n",
            "937/938 [============================>.] - ETA: 0s - loss: 0.5255 - accuracy: 0.7593\n",
            "Epoch 40: val_accuracy improved from 0.77043 to 0.77982, saving model to best_model1.hdf5\n",
            "938/938 [==============================] - 33s 36ms/step - loss: 0.5254 - accuracy: 0.7593 - val_loss: 0.5154 - val_accuracy: 0.7798\n",
            "Epoch 41/70\n",
            "937/938 [============================>.] - ETA: 0s - loss: 0.5108 - accuracy: 0.7806\n",
            "Epoch 41: val_accuracy improved from 0.77982 to 0.78591, saving model to best_model1.hdf5\n",
            "938/938 [==============================] - 34s 36ms/step - loss: 0.5107 - accuracy: 0.7807 - val_loss: 0.5196 - val_accuracy: 0.7859\n",
            "Epoch 42/70\n",
            "937/938 [============================>.] - ETA: 0s - loss: 0.5092 - accuracy: 0.7809\n",
            "Epoch 42: val_accuracy did not improve from 0.78591\n",
            "938/938 [==============================] - 34s 36ms/step - loss: 0.5092 - accuracy: 0.7809 - val_loss: 0.5188 - val_accuracy: 0.7834\n",
            "Epoch 43/70\n",
            "937/938 [============================>.] - ETA: 0s - loss: 0.5059 - accuracy: 0.7743\n",
            "Epoch 43: val_accuracy did not improve from 0.78591\n",
            "938/938 [==============================] - 33s 36ms/step - loss: 0.5058 - accuracy: 0.7744 - val_loss: 0.4999 - val_accuracy: 0.7659\n",
            "Epoch 44/70\n",
            "937/938 [============================>.] - ETA: 0s - loss: 0.5054 - accuracy: 0.7563\n",
            "Epoch 44: val_accuracy did not improve from 0.78591\n",
            "938/938 [==============================] - 34s 36ms/step - loss: 0.5054 - accuracy: 0.7563 - val_loss: 0.5320 - val_accuracy: 0.7246\n",
            "Epoch 45/70\n",
            "937/938 [============================>.] - ETA: 0s - loss: 0.4922 - accuracy: 0.7513\n",
            "Epoch 45: val_accuracy did not improve from 0.78591\n",
            "938/938 [==============================] - 33s 35ms/step - loss: 0.4922 - accuracy: 0.7513 - val_loss: 0.4895 - val_accuracy: 0.7404\n",
            "Epoch 46/70\n",
            "937/938 [============================>.] - ETA: 0s - loss: 0.5005 - accuracy: 0.7580\n",
            "Epoch 46: val_accuracy did not improve from 0.78591\n",
            "938/938 [==============================] - 33s 35ms/step - loss: 0.5007 - accuracy: 0.7580 - val_loss: 0.5309 - val_accuracy: 0.7771\n",
            "Epoch 47/70\n",
            "937/938 [============================>.] - ETA: 0s - loss: 0.5167 - accuracy: 0.7659\n",
            "Epoch 47: val_accuracy did not improve from 0.78591\n",
            "938/938 [==============================] - 33s 35ms/step - loss: 0.5168 - accuracy: 0.7659 - val_loss: 0.5015 - val_accuracy: 0.7639\n",
            "Epoch 48/70\n",
            "937/938 [============================>.] - ETA: 0s - loss: 0.4793 - accuracy: 0.7703\n",
            "Epoch 48: val_accuracy did not improve from 0.78591\n",
            "938/938 [==============================] - 33s 35ms/step - loss: 0.4792 - accuracy: 0.7704 - val_loss: 0.4939 - val_accuracy: 0.7822\n",
            "Epoch 49/70\n",
            "937/938 [============================>.] - ETA: 0s - loss: 0.4872 - accuracy: 0.7825\n",
            "Epoch 49: val_accuracy did not improve from 0.78591\n",
            "938/938 [==============================] - 33s 35ms/step - loss: 0.4871 - accuracy: 0.7825 - val_loss: 0.5285 - val_accuracy: 0.7819\n",
            "Epoch 50/70\n",
            "937/938 [============================>.] - ETA: 0s - loss: 0.4890 - accuracy: 0.7809\n",
            "Epoch 50: val_accuracy improved from 0.78591 to 0.78621, saving model to best_model1.hdf5\n",
            "938/938 [==============================] - 33s 35ms/step - loss: 0.4890 - accuracy: 0.7809 - val_loss: 0.4886 - val_accuracy: 0.7862\n",
            "Epoch 51/70\n",
            "937/938 [============================>.] - ETA: 0s - loss: 0.4949 - accuracy: 0.7766\n",
            "Epoch 51: val_accuracy improved from 0.78621 to 0.79520, saving model to best_model1.hdf5\n",
            "938/938 [==============================] - 33s 35ms/step - loss: 0.4949 - accuracy: 0.7767 - val_loss: 0.4785 - val_accuracy: 0.7952\n",
            "Epoch 52/70\n",
            "937/938 [============================>.] - ETA: 0s - loss: 0.4749 - accuracy: 0.7733\n",
            "Epoch 52: val_accuracy improved from 0.79520 to 0.81469, saving model to best_model1.hdf5\n",
            "938/938 [==============================] - 33s 35ms/step - loss: 0.4749 - accuracy: 0.7734 - val_loss: 0.4350 - val_accuracy: 0.8147\n",
            "Epoch 53/70\n",
            "937/938 [============================>.] - ETA: 0s - loss: 0.4320 - accuracy: 0.8159\n",
            "Epoch 53: val_accuracy did not improve from 0.81469\n",
            "938/938 [==============================] - 33s 35ms/step - loss: 0.4319 - accuracy: 0.8160 - val_loss: 0.4322 - val_accuracy: 0.8129\n",
            "Epoch 54/70\n",
            "937/938 [============================>.] - ETA: 0s - loss: 0.4130 - accuracy: 0.8249\n",
            "Epoch 54: val_accuracy improved from 0.81469 to 0.83187, saving model to best_model1.hdf5\n",
            "938/938 [==============================] - 33s 36ms/step - loss: 0.4129 - accuracy: 0.8249 - val_loss: 0.4040 - val_accuracy: 0.8319\n",
            "Epoch 55/70\n",
            "937/938 [============================>.] - ETA: 0s - loss: 0.3914 - accuracy: 0.8350\n",
            "Epoch 55: val_accuracy improved from 0.83187 to 0.83706, saving model to best_model1.hdf5\n",
            "938/938 [==============================] - 33s 35ms/step - loss: 0.3913 - accuracy: 0.8350 - val_loss: 0.3918 - val_accuracy: 0.8371\n",
            "Epoch 56/70\n",
            "937/938 [============================>.] - ETA: 0s - loss: 0.3752 - accuracy: 0.8395\n",
            "Epoch 56: val_accuracy did not improve from 0.83706\n",
            "938/938 [==============================] - 33s 36ms/step - loss: 0.3752 - accuracy: 0.8395 - val_loss: 0.3811 - val_accuracy: 0.8342\n",
            "Epoch 57/70\n",
            "937/938 [============================>.] - ETA: 0s - loss: 0.3689 - accuracy: 0.8406\n",
            "Epoch 57: val_accuracy improved from 0.83706 to 0.83906, saving model to best_model1.hdf5\n",
            "938/938 [==============================] - 33s 35ms/step - loss: 0.3689 - accuracy: 0.8406 - val_loss: 0.3794 - val_accuracy: 0.8391\n",
            "Epoch 58/70\n",
            "937/938 [============================>.] - ETA: 0s - loss: 0.3690 - accuracy: 0.8457\n",
            "Epoch 58: val_accuracy improved from 0.83906 to 0.84795, saving model to best_model1.hdf5\n",
            "938/938 [==============================] - 33s 36ms/step - loss: 0.3690 - accuracy: 0.8457 - val_loss: 0.3809 - val_accuracy: 0.8480\n",
            "Epoch 59/70\n",
            "937/938 [============================>.] - ETA: 0s - loss: 0.3568 - accuracy: 0.8531\n",
            "Epoch 59: val_accuracy did not improve from 0.84795\n",
            "938/938 [==============================] - 33s 36ms/step - loss: 0.3570 - accuracy: 0.8530 - val_loss: 0.3880 - val_accuracy: 0.8397\n",
            "Epoch 60/70\n",
            "937/938 [============================>.] - ETA: 0s - loss: 0.3488 - accuracy: 0.8545\n",
            "Epoch 60: val_accuracy did not improve from 0.84795\n",
            "938/938 [==============================] - 33s 36ms/step - loss: 0.3487 - accuracy: 0.8545 - val_loss: 0.3856 - val_accuracy: 0.8360\n",
            "Epoch 61/70\n",
            "937/938 [============================>.] - ETA: 0s - loss: 0.3461 - accuracy: 0.8560\n",
            "Epoch 61: val_accuracy did not improve from 0.84795\n",
            "938/938 [==============================] - 33s 35ms/step - loss: 0.3460 - accuracy: 0.8561 - val_loss: 0.3854 - val_accuracy: 0.8288\n",
            "Epoch 62/70\n",
            "937/938 [============================>.] - ETA: 0s - loss: 0.3384 - accuracy: 0.8609\n",
            "Epoch 62: val_accuracy improved from 0.84795 to 0.85065, saving model to best_model1.hdf5\n",
            "938/938 [==============================] - 33s 36ms/step - loss: 0.3385 - accuracy: 0.8609 - val_loss: 0.3646 - val_accuracy: 0.8506\n",
            "Epoch 63/70\n",
            "937/938 [============================>.] - ETA: 0s - loss: 0.3342 - accuracy: 0.8661\n",
            "Epoch 63: val_accuracy improved from 0.85065 to 0.85634, saving model to best_model1.hdf5\n",
            "938/938 [==============================] - 33s 36ms/step - loss: 0.3342 - accuracy: 0.8662 - val_loss: 0.3488 - val_accuracy: 0.8563\n",
            "Epoch 64/70\n",
            "937/938 [============================>.] - ETA: 0s - loss: 0.3251 - accuracy: 0.8698\n",
            "Epoch 64: val_accuracy improved from 0.85634 to 0.85894, saving model to best_model1.hdf5\n",
            "938/938 [==============================] - 33s 35ms/step - loss: 0.3252 - accuracy: 0.8697 - val_loss: 0.3455 - val_accuracy: 0.8589\n",
            "Epoch 65/70\n",
            "937/938 [============================>.] - ETA: 0s - loss: 0.3166 - accuracy: 0.8744\n",
            "Epoch 65: val_accuracy did not improve from 0.85894\n",
            "938/938 [==============================] - 33s 36ms/step - loss: 0.3165 - accuracy: 0.8745 - val_loss: 0.3437 - val_accuracy: 0.8575\n",
            "Epoch 66/70\n",
            "937/938 [============================>.] - ETA: 0s - loss: 0.3122 - accuracy: 0.8753\n",
            "Epoch 66: val_accuracy did not improve from 0.85894\n",
            "938/938 [==============================] - 33s 36ms/step - loss: 0.3123 - accuracy: 0.8753 - val_loss: 0.3505 - val_accuracy: 0.8568\n",
            "Epoch 67/70\n",
            "937/938 [============================>.] - ETA: 0s - loss: 0.3091 - accuracy: 0.8781\n",
            "Epoch 67: val_accuracy improved from 0.85894 to 0.86124, saving model to best_model1.hdf5\n",
            "938/938 [==============================] - 33s 36ms/step - loss: 0.3094 - accuracy: 0.8779 - val_loss: 0.3441 - val_accuracy: 0.8612\n",
            "Epoch 68/70\n",
            "937/938 [============================>.] - ETA: 0s - loss: 0.3057 - accuracy: 0.8801\n",
            "Epoch 68: val_accuracy did not improve from 0.86124\n",
            "938/938 [==============================] - 33s 36ms/step - loss: 0.3056 - accuracy: 0.8802 - val_loss: 0.3469 - val_accuracy: 0.8578\n",
            "Epoch 69/70\n",
            "937/938 [============================>.] - ETA: 0s - loss: 0.3114 - accuracy: 0.8795\n",
            "Epoch 69: val_accuracy did not improve from 0.86124\n",
            "938/938 [==============================] - 33s 36ms/step - loss: 0.3114 - accuracy: 0.8795 - val_loss: 0.3703 - val_accuracy: 0.8565\n",
            "Epoch 70/70\n",
            "937/938 [============================>.] - ETA: 0s - loss: 0.3050 - accuracy: 0.8807\n",
            "Epoch 70: val_accuracy did not improve from 0.86124\n",
            "938/938 [==============================] - 33s 36ms/step - loss: 0.3049 - accuracy: 0.8807 - val_loss: 0.3535 - val_accuracy: 0.8612\n"
          ]
        }
      ]
    },
    {
      "cell_type": "markdown",
      "source": [
        "Ta lưu và nạp mô hình lại dựa vào 2 đoạn code trên"
      ],
      "metadata": {
        "id": "uvU-gRXhvmJ0"
      }
    },
    {
      "cell_type": "code",
      "source": [
        "model1.save(\"/content/drive/MyDrive/Dataset_Sentiment_Analysis/model/model1.h5\")"
      ],
      "metadata": {
        "id": "3fSQmquBEKVD"
      },
      "execution_count": null,
      "outputs": []
    },
    {
      "cell_type": "code",
      "source": [
        "import tensorflow as tf\n",
        "model1 = tf.keras.models.load_model('/content/drive/MyDrive/Dataset_Sentiment_Analysis/model/model1.h5')"
      ],
      "metadata": {
        "id": "FHTxKHfIGZuS"
      },
      "execution_count": null,
      "outputs": []
    },
    {
      "cell_type": "markdown",
      "source": [
        "<h3> Thử nghiệm </h3>"
      ],
      "metadata": {
        "id": "tkhHsteTvrq5"
      }
    },
    {
      "cell_type": "code",
      "source": [
        "test_string = 'Hôm nay mình đi ăn ở quán ABCZYX, đồ ăn rất ngon, phục vụ tận tình'\n",
        "test_array = [clean_doc(test_string, vocab, True)]\n",
        "encoded = k_tokenizer.texts_to_sequences(test_array)\n",
        "test = pad_sequences(encoded, maxlen=max_length, padding='post')\n",
        "predicted = model1.predict(test)\n",
        "print(predicted)\n",
        "if (predicted > 0.5): print('Positive')\n",
        "else: print('Negative')"
      ],
      "metadata": {
        "colab": {
          "base_uri": "https://localhost:8080/"
        },
        "id": "xenP2QcIyqFr",
        "outputId": "5a8c0df2-995e-445c-f53a-0fa0dea7b51f"
      },
      "execution_count": null,
      "outputs": [
        {
          "output_type": "stream",
          "name": "stdout",
          "text": [
            "[[0.7290563]]\n",
            "Positive\n"
          ]
        }
      ]
    },
    {
      "cell_type": "markdown",
      "source": [
        "<h1> <i> REFERENCES </i> </h1>\n",
        "\n",
        "[1] Tran. Nghia; Vietnamese Dataset, from Foody; https://github.com/congnghia0609/ntc-scv/tree/master/data\n",
        "\n",
        "[2] Pham. Vinh; Vietnamese-Word-Segmentation-Python; adapted from Nguyen. Dat, Nguyen. Dai, Dras. Mark, Johnson. Mark; A Fast and Accurate Vietnamese Word Segmenter;\n",
        "github.com/Sudo-VP/Vietnamese-Word-Segmentation-Python\n",
        "\n",
        "[3] Tran. Nghia, Le. Hung; Phân tích cảm xúc trong Tiếng Việt; https://streetcodevn.com/blog/sav\n",
        "\n",
        "[4] Tran. Nghia, Le. Hung; Cách tách từ cho tiếng Việt; https://streetcodevn.com/blog/vntok\n",
        "\n",
        "[5] Le. Duyet; Stop words; https://github.com/stopwords/vietnamese-stopwords\n",
        "\n",
        "[6] Virahonda. Sergio; An easy tutorial about Sentiment Analysis with Deep Learning and Keras; https://towardsdatascience.com/an-easy-tutorial-about-sentiment-analysis-with-deep-learning-and-keras-2bf52b9cba91\n",
        "\n",
        "[7] Sucky. Rashida; A Complete Step by Step Tutorial on Sentiment Analysis in Keras and Tensorflow; https://towardsdatascience.com/a-complete-step-by-step-tutorial-on-sentiment-analysis-in-keras-and-tensorflow-ea420cc8913f\n",
        "\n",
        "[8] Brownlee. Jason; Deep Convolutional Neural Network for Sentiment Analysis (Text Classification); https://machinelearningmastery.com/develop-word-embedding-model-predicting-movie-review-sentiment/\n",
        "\n",
        "[9] Pham. Quang; Xây dựng mô hình không gian vector cho Tiếng Việt; https://viblo.asia/p/xay-dung-mo-hinh-khong-gian-vector-cho-tieng-viet-GrLZDXr2Zk0"
      ],
      "metadata": {
        "id": "9aUga3CwSRNt"
      }
    }
  ]
}